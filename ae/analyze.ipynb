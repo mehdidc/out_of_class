{
 "cells": [
  {
   "cell_type": "code",
   "execution_count": 1,
   "metadata": {},
   "outputs": [
    {
     "name": "stderr",
     "output_type": "stream",
     "text": [
      "Using Theano backend.\n"
     ]
    }
   ],
   "source": [
    "%matplotlib inline\n",
    "import seaborn as sbn\n",
    "sbn.set_style('white')\n",
    "import numpy as np\n",
    "from skimage.io import imsave\n",
    "import matplotlib.pyplot as plt\n",
    "from IPython.display import Image\n",
    "from sklearn.manifold import TSNE\n",
    "\n",
    "from keras.models import Model\n",
    "from keras.layers import InputLayer\n",
    "from keras import backend as K\n",
    "\n",
    "from machinedesign.autoencoder.interface import load\n",
    "from machinedesign.viz import grid_of_images_default\n",
    "from sklearn.ensemble import RandomForestClassifier\n",
    "\n",
    "from PIL import Image\n",
    "\n",
    "import math\n",
    "\n",
    "from collections import defaultdict\n",
    "from scipy.spatial.distance import cdist\n",
    "from lapjv import lapjv\n",
    "\n",
    "def grid_embedding(h):\n",
    "    assert int(np.sqrt(h.shape[0])) ** 2 == h.shape[0], 'Nb of examples must be a square number'\n",
    "    size = np.sqrt(h.shape[0])\n",
    "    grid = np.dstack(np.meshgrid(np.linspace(0, 1, size), np.linspace(0, 1, size))).reshape(-1, 2)\n",
    "    cost_matrix = cdist(grid, h, \"sqeuclidean\").astype('float32')\n",
    "    cost_matrix = cost_matrix * (100000 / cost_matrix.max())\n",
    "    _, rows, cols = lapjv(cost_matrix)\n",
    "    return rows\n",
    "\n",
    "def convert_to_RGBA(img, alpha=None):\n",
    "    \"\"\"Converts input PIL Image or nparray to RGBA. Returns ndarray of shape\n",
    "    (H, W, 4), where the last channel dimension is `alpha`, the transparency\"\"\"\n",
    "    try:\n",
    "        if img.mode != \"RGBA\":\n",
    "            img = np.array(img.convert(\"RGBA\"))\n",
    "    except AttributeError:\n",
    "        img = Image.fromarray(img)\n",
    "        if img.mode != \"RGBA\":\n",
    "            img = np.array(img.convert(\"RGBA\"))\n",
    "    # reconvert back to npy. we converted ^ to make sure any array is converted\n",
    "    # to a standard color mode, RGBA, so we can manpipualate easily\n",
    "    if alpha is not None:\n",
    "        if alpha >= 0 and alpha <= 255:\n",
    "            img[:, :, 3] = int(alpha)\n",
    "        else:\n",
    "            raise RuntimeError(\"alpha must be between [0, 255]\")\n",
    "\n",
    "    return np.array(img)\n",
    "\n",
    "\n",
    "def preproc_img(img, flip_ud=True, alpha=None):\n",
    "    \"\"\" Preprocess a image arr (numpy or PIL.Image) to be absorbed bokeh's\n",
    "    plotting.\"\"\"\n",
    "    # convert to RGBA if it's not, depending on whether ndarr/PIL.Image\n",
    "    img = convert_to_RGBA(img, alpha=alpha)\n",
    "\n",
    "    # traditional image conventions refer to top left corner as 0,0.\n",
    "    # however, bokeh has bottom left (0,0).\n",
    "    if flip_ud:\n",
    "        img = np.flipud(img)\n",
    "\n",
    "    # convert img to be 2d arr (M x N) with dtype = uint32 -- for bokeh\n",
    "    bimg = np.squeeze(img.astype(np.uint8).view(np.uint32))\n",
    "    return bimg\n",
    "def plot_dataset(code_2d, categories):\n",
    "    colors = [\n",
    "        'r',\n",
    "        'b',\n",
    "        'g',\n",
    "        'crimson',\n",
    "        'gold',\n",
    "        'yellow',\n",
    "        'maroon',\n",
    "        'm',\n",
    "        'c',\n",
    "        'orange'\n",
    "    ]\n",
    "    for cat in range(0, 10):\n",
    "        g = (categories == cat)\n",
    "        plt.scatter(\n",
    "            code_2d[g, 0],\n",
    "            code_2d[g, 1],\n",
    "            marker='+',\n",
    "            c=colors[cat],\n",
    "            s=40,\n",
    "            alpha=0.7,\n",
    "            label=\"digit {}\".format(cat)\n",
    "        )\n",
    "\n",
    "\n",
    "def plot_generated(code_2d, categories):\n",
    "    g = (categories < 0)\n",
    "    plt.scatter(\n",
    "        code_2d[g, 0],\n",
    "        code_2d[g, 1],\n",
    "        marker='+',\n",
    "        c='gray',\n",
    "        s=30\n",
    "    )\n",
    "    \n",
    "def index_of(f, it):\n",
    "    for i, x in enumerate(it):\n",
    "        if f(x):\n",
    "            return i"
   ]
  },
  {
   "cell_type": "code",
   "execution_count": 2,
   "metadata": {
    "collapsed": true
   },
   "outputs": [],
   "source": [
    "dataset = '../data/celeba.npz'\n",
    "data = np.load(dataset)\n",
    "X = data['X']\n",
    "#y = data['y']\n",
    "X = X.astype(np.float32)\n",
    "X /= 255."
   ]
  },
  {
   "cell_type": "code",
   "execution_count": 3,
   "metadata": {
    "collapsed": true
   },
   "outputs": [],
   "source": [
    "folder = 'celeba_vertebrate_deep'"
   ]
  },
  {
   "cell_type": "code",
   "execution_count": 4,
   "metadata": {
    "collapsed": true
   },
   "outputs": [],
   "source": [
    "model = load('results/{}'.format(folder))"
   ]
  },
  {
   "cell_type": "code",
   "execution_count": 21,
   "metadata": {
    "collapsed": true
   },
   "outputs": [],
   "source": [
    "# *_vertebrate_* or *_vertebrate_deep_*\n",
    "inp_layers = [ \n",
    "    model.get_layer('winner_take_all_spatial_1'),\n",
    "    model.get_layer('winner_take_all_spatial_2'),\n",
    "    model.get_layer('winner_take_all_spatial_3'),\n",
    "]\n",
    "inp = [l.output for l in inp_layers]\n",
    "out = [\n",
    "    model.get_layer('activation_4').output,\n",
    "    model.get_layer('activation_6').output,\n",
    "    model.get_layer('activation_9').output,\n",
    "    model.get_layer('activation_10').output\n",
    "]\n",
    "dec = K.function(inp, out)\n",
    "enc = K.function([model.layers[0].input], inp)"
   ]
  },
  {
   "cell_type": "code",
   "execution_count": 23,
   "metadata": {},
   "outputs": [
    {
     "name": "stdout",
     "output_type": "stream",
     "text": [
      "(256, 256, 16, 16)\n",
      "(256, 256, 8, 8)\n",
      "(256, 256, 4, 4)\n"
     ]
    },
    {
     "name": "stderr",
     "output_type": "stream",
     "text": [
      "/home/mcherti/miniconda/envs/py3/lib/python3.5/site-packages/skimage/util/dtype.py:110: UserWarning: Possible precision loss when converting from float64 to uint8\n",
      "  \"%s to %s\" % (dtypeobj_in, dtypeobj))\n"
     ]
    }
   ],
   "source": [
    "# *_vertebrate\n",
    "H = [np.zeros((layer.input_shape[1],) + layer.input_shape[1:]) for layer in inp_layers]\n",
    "ind = np.arange(inp_layers[0].input_shape[1])\n",
    "for h in H:\n",
    "    print(h.shape)\n",
    "H[0][ind, ind, 2, 2] = 1.0\n",
    "outs = dec(H)\n",
    "im = grid_of_images_default(outs[3], normalize=True)\n",
    "imsave('results/{}/features.png'.format(folder), im)"
   ]
  },
  {
   "cell_type": "code",
   "execution_count": 24,
   "metadata": {},
   "outputs": [
    {
     "name": "stdout",
     "output_type": "stream",
     "text": [
      "(4, 3, 32, 32)\n"
     ]
    },
    {
     "name": "stderr",
     "output_type": "stream",
     "text": [
      "/home/mcherti/miniconda/envs/py3/lib/python3.5/site-packages/skimage/util/dtype.py:110: UserWarning: Possible precision loss when converting from float64 to uint8\n",
      "  \"%s to %s\" % (dtypeobj_in, dtypeobj))\n"
     ]
    }
   ],
   "source": [
    "h = enc([X[0:64]])\n",
    "outs = dec(h)\n",
    "outs = [o[0:1] for o in outs]\n",
    "o = np.concatenate(outs, axis=0)\n",
    "print(o.shape)\n",
    "im = grid_of_images_default(o, normalize=True)\n",
    "imsave('results/{}/features.png'.format(folder), im)"
   ]
  },
  {
   "cell_type": "code",
   "execution_count": null,
   "metadata": {
    "collapsed": true
   },
   "outputs": [],
   "source": [
    "def featurize(h):\n",
    "    if len(h.shape) == 4:\n",
    "        y, x = np.indices((layer_h, layer_w))\n",
    "        y = y[np.newaxis, np.newaxis, :, :]\n",
    "        x = x[np.newaxis, np.newaxis, :, :]\n",
    "        hx = (h > 0) * x \n",
    "        hy = (h > 0) * y\n",
    "        hx = hx.max(axis=(2, 3))\n",
    "        hy = hy.max(axis=(2, 3))\n",
    "        hx = hx.astype(np.float32)\n",
    "        hy = hy.astype(np.float32)\n",
    "        hy /= layer_h\n",
    "        hx /= layer_w\n",
    "        h = np.concatenate((hx, hy), axis=1)\n",
    "    else:\n",
    "        h = h.reshape((h.shape[0], -1))\n",
    "    return h"
   ]
  },
  {
   "cell_type": "code",
   "execution_count": null,
   "metadata": {
    "collapsed": true
   },
   "outputs": [],
   "source": [
    "gen = np.load('results/{}/gen/generated.npz'.format(folder))\n",
    "nb_gen = 2 * (2 * 40 * 40)\n",
    "#nb_gen = 2 * (2 * 15 * 15)\n",
    "Xg = gen['generated'][0:nb_gen]\n",
    "yg = np.array([-1] * len(Xg))\n",
    "Xt = X[0:len(Xg)]\n",
    "yt = y[0:len(yg)]\n",
    "Xf = np.concatenate((Xg, Xt), axis=0)\n",
    "yf = np.concatenate((yg, yt), axis=0)\n",
    "h = enc([Xf])\n",
    "print(Xf.shape, h.shape)\n",
    "h = featurize(h)\n",
    "h2d = TSNE().fit_transform(h)"
   ]
  },
  {
   "cell_type": "code",
   "execution_count": null,
   "metadata": {
    "collapsed": true
   },
   "outputs": [],
   "source": [
    "fig = plt.figure(figsize=(15, 15))\n",
    "#plt.scatter(h2d[yf>=0, 0], h2d[yf>=0, 1], color='blue', marker='+')\n",
    "#plt.scatter(h2d[yf<0, 0], h2d[yf<0, 1], color='red', marker='+')\n",
    "plot_dataset(h2d, yf)\n",
    "plot_generated(h2d, yf)\n",
    "plt.legend()\n",
    "plt.show()"
   ]
  },
  {
   "cell_type": "code",
   "execution_count": null,
   "metadata": {
    "collapsed": true
   },
   "outputs": [],
   "source": [
    "from bokeh.plotting import figure, output_file, show, save\n",
    "output_file('results/{}/img_embedding.html'.format(folder))\n",
    "\n",
    "x_range = (h2d[:, 1].min(), h2d[:, 1].max())\n",
    "y_range = (h2d[:, 0].min(), h2d[:, 1].max())\n",
    "p = figure(plot_width=1200, plot_height=800, x_range=x_range, y_range=y_range)\n",
    "\n",
    "for coord, img in zip(h2d, Xf):\n",
    "    img = img[0]\n",
    "    img = img * 255.\n",
    "    img = img.astype(np.float32)\n",
    "    img = Image.fromarray(img)\n",
    "    img = preproc_img(img)\n",
    "    y = coord[0]\n",
    "    x = coord[1]\n",
    "    p.image_rgba(image=[img], \n",
    "                 x=[y],\n",
    "                 y=[x], \n",
    "                 dw=[0.1], dh=[0.1])\n",
    "\n",
    "save(p)"
   ]
  },
  {
   "cell_type": "code",
   "execution_count": null,
   "metadata": {
    "collapsed": true
   },
   "outputs": [],
   "source": [
    "nb = 15*15*2\n",
    "xx = np.concatenate((Xf[0:nb], Xf[nb_gen:nb_gen + nb]), axis=0)\n",
    "hh = np.concatenate((h2d[0:nb], h2d[nb_gen:nb_gen + nb]), axis=0)\n",
    "xx[0:nb] = 1.0 - xx[0:nb]\n",
    "rows = grid_embedding(hh)\n",
    "im = grid_of_images_default(xx[rows])\n",
    "imsave('results/{}/grid.png'.format(folder), im)"
   ]
  },
  {
   "cell_type": "code",
   "execution_count": null,
   "metadata": {
    "collapsed": true
   },
   "outputs": [],
   "source": [
    "plt.hist(h[yf<0, 2], color='blue', histtype='step')\n",
    "plt.hist(h[yf>=0, 2], color='red', histtype='step')\n",
    "plt.show()"
   ]
  },
  {
   "cell_type": "code",
   "execution_count": null,
   "metadata": {
    "collapsed": true
   },
   "outputs": [],
   "source": [
    "# Computes normalized mutual information between all possible pairs of features\n",
    "ind = np.arange(h.shape[1]//2, h.shape[1])\n",
    "np.random.shuffle(ind)\n",
    "h_ = h[:, ind]\n",
    "m = np.zeros((h_.shape[1], h_.shape[1]))\n",
    "for i in range(h_.shape[1]):\n",
    "    for j in range(i, h_.shape[1]):\n",
    "        ij_counts = defaultdict(int)\n",
    "        icounts = defaultdict(int)\n",
    "        jcounts = defaultdict(int)\n",
    "        for k in range(0, 1000):\n",
    "            ij_counts[(h_[k, i], h_[k, j])] += 1\n",
    "            icounts[h_[k, i]] += 1\n",
    "            jcounts[h_[k, j]] += 1\n",
    "        ij_total = sum(ij_counts.values())\n",
    "        i_total = sum(icounts.values())\n",
    "        j_total = sum(jcounts.values())\n",
    "        m[i, j] = 0.\n",
    "        for (vi, vj), nb in ij_counts.items():\n",
    "            pij = nb / ij_total\n",
    "            pi = icounts[vi] / i_total\n",
    "            pj = jcounts[vj] / j_total\n",
    "            m[i, j] += pij * math.log(pij / (pi * pj))\n",
    "        hi = sum((nb/i_total) * math.log(nb/i_total) for nb in icounts.values())\n",
    "        hj = sum((nb/j_total) * math.log(nb/j_total) for nb in jcounts.values())\n",
    "        m[i, j] /= math.sqrt(hi * hj)"
   ]
  },
  {
   "cell_type": "code",
   "execution_count": null,
   "metadata": {
    "collapsed": true
   },
   "outputs": [],
   "source": [
    "fig = plt.figure(figsize=(20, 20))\n",
    "plt.imshow(m, cmap='plasma')"
   ]
  },
  {
   "cell_type": "code",
   "execution_count": null,
   "metadata": {
    "collapsed": true
   },
   "outputs": [],
   "source": [
    "x = K.placeholder((None, 1, 28, 28))\n",
    "layers = model.layers[2].layers\n",
    "#layers = model.layers\n",
    "y = x\n",
    "for t in range(20):\n",
    "    for l in layers:\n",
    "        y = l(y)\n",
    "loss = y[:, :, 13, 13].mean()\n",
    "g = K.gradients(loss, x)\n",
    "get_g = K.function([x], g)\n",
    "pred = K.function([x], y)"
   ]
  },
  {
   "cell_type": "code",
   "execution_count": null,
   "metadata": {
    "collapsed": true
   },
   "outputs": [],
   "source": [
    "v = np.random.uniform(size=(1, 1, 28, 28)).astype(np.float32)\n",
    "#v = np.ones((1, 1, 28, 28)).astype(np.float32)\n",
    "#v = X[0:1]\n",
    "gval = (get_g([v])).astype(np.float32)\n",
    "plt.imshow(gval[0, 0], cmap='gray')\n",
    "plt.show()"
   ]
  },
  {
   "cell_type": "code",
   "execution_count": null,
   "metadata": {
    "collapsed": true
   },
   "outputs": [],
   "source": [
    "v = np.random.uniform(size=(1, 1, 28, 28)).astype(np.float32)\n",
    "y=pred([v])\n",
    "plt.imshow(y[0,0], cmap='gray')\n",
    "plt.show()\n",
    "plt.imshow(X[0,0], cmap='gray')\n",
    "plt.show()"
   ]
  },
  {
   "cell_type": "code",
   "execution_count": null,
   "metadata": {
    "collapsed": true
   },
   "outputs": [],
   "source": []
  },
  {
   "cell_type": "code",
   "execution_count": null,
   "metadata": {
    "collapsed": true
   },
   "outputs": [],
   "source": [
    "h = enc([X[0:1]])\n",
    "(h == 0).sum() #/ h.shape[1]"
   ]
  },
  {
   "cell_type": "code",
   "execution_count": null,
   "metadata": {
    "collapsed": true
   },
   "outputs": [],
   "source": [
    "(h[0]>0).sum()"
   ]
  }
 ],
 "metadata": {
  "anaconda-cloud": {},
  "kernelspec": {
   "display_name": "Python [conda env:py3]",
   "language": "python",
   "name": "conda-env-py3-py"
  },
  "language_info": {
   "codemirror_mode": {
    "name": "ipython",
    "version": 3
   },
   "file_extension": ".py",
   "mimetype": "text/x-python",
   "name": "python",
   "nbconvert_exporter": "python",
   "pygments_lexer": "ipython3",
   "version": "3.5.2"
  }
 },
 "nbformat": 4,
 "nbformat_minor": 1
}
