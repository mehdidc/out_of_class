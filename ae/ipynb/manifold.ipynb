{
 "cells": [
  {
   "cell_type": "code",
   "execution_count": null,
   "metadata": {
    "collapsed": true
   },
   "outputs": [],
   "source": [
    "from machinedesign.viz import grid_of_images_default\n",
    "from machinedesign.autoencoder.interface import load\n",
    "import keras.backend as K\n",
    "import numpy as np\n",
    "from skimage.io import imsave\n",
    "%matplotlib inline\n",
    "import matplotlib.pyplot as plt\n",
    "from sklearn.decomposition import PCA, FactorAnalysis, KernelPCA\n",
    "from IPython.display import Image\n",
    "from sklearn.neighbors import KernelDensity\n",
    "from machinedesign.viz import horiz_merge\n",
    "from functools import partial\n",
    "\n",
    "from sklearn.decomposition import DictionaryLearning\n",
    "def get_thresholds(X, X_true):\n",
    "    ratio = (X_true > 0).mean(axis=(0, 2, 3))\n",
    "    th = []\n",
    "    for i in range(X.shape[1]):\n",
    "        values = X[:, i].flatten()\n",
    "        tpl = np.linspace(values.min(), values.max(), 10)\n",
    "        for v in tpl:\n",
    "            if (values>v).mean() < ratio[i]:\n",
    "                break\n",
    "        th.append(v)\n",
    "    return np.array(th)\n",
    "\n",
    "def minmax(X, X_true):\n",
    "    a = X.min(axis=(0, 2, 3), keepdims=True)\n",
    "    b = X.max(axis=(0, 2, 3), keepdims=True)\n",
    "    X = (X - a) / (b - a + 1e-7)\n",
    "    a = X_true.min(axis=(0, 2, 3), keepdims=True)\n",
    "    b = X_true.max(axis=(0, 2, 3), keepdims=True)\n",
    "    return a + X * (b - a)\n",
    "\n",
    "def gaussian_kernel(A, B, sigmas=[1]):\n",
    "    A_ = A[:, None, :]\n",
    "    B_ = B[None, :, :]\n",
    "    out = 0\n",
    "    for sigma in sigmas:\n",
    "        m = ((A_ - B_) ** 2).sum(axis=2)\n",
    "        out += K.exp(-m / (2 * sigma**2))\n",
    "    return out.sum()\n",
    "\n",
    "def mmd(X, Y, kernel=gaussian_kernel):\n",
    "    X_ = X\n",
    "    Y_ = Y\n",
    "    a = kernel(X_, X_)\n",
    "    b = kernel(X_, Y_)\n",
    "    c = kernel(Y_, Y_)\n",
    "    N = X_.shape[0]\n",
    "    M = Y_.shape[0]\n",
    "    mmd_sqr = 1. / (N**2) * a - (2. / (N * M)) * b + (1. / M**2) * c\n",
    "    return mmd_sqr"
   ]
  },
  {
   "cell_type": "code",
   "execution_count": null,
   "metadata": {
    "collapsed": true
   },
   "outputs": [],
   "source": [
    "!ls ../results/"
   ]
  },
  {
   "cell_type": "code",
   "execution_count": null,
   "metadata": {
    "collapsed": true
   },
   "outputs": [],
   "source": [
    "folder = 'flaticon'"
   ]
  },
  {
   "cell_type": "code",
   "execution_count": null,
   "metadata": {},
   "outputs": [],
   "source": [
    "model = load('../results/{}'.format(folder))"
   ]
  },
  {
   "cell_type": "code",
   "execution_count": null,
   "metadata": {
    "collapsed": true
   },
   "outputs": [],
   "source": [
    "data = np.load('../../data/shoes.npz')\n",
    "X = data['X']\n",
    "X = X / 255."
   ]
  },
  {
   "cell_type": "code",
   "execution_count": null,
   "metadata": {},
   "outputs": [],
   "source": [
    "model.summary()"
   ]
  },
  {
   "cell_type": "code",
   "execution_count": null,
   "metadata": {},
   "outputs": [],
   "source": [
    "O = []\n",
    "acts = ('input_1', 'activation_1', 'activation_2', 'activation_3', 'activation_4', 'activation_5', 'activation_6')\n",
    "for j, act in enumerate(acts):\n",
    "    inp = model.layers[0].input\n",
    "    hid_layer = model.get_layer(act)\n",
    "    hid = hid_layer.output\n",
    "    out = model.layers[-1].output\n",
    "    enc = K.function([inp], hid)\n",
    "    dec = K.function([hid], out)\n",
    "\n",
    "    hid = enc([X[0:9]])\n",
    "    print(hid.shape)\n",
    "    out = []\n",
    "    space = np.logspace(-1, 1, 10)\n",
    "    for i, b in enumerate(space):\n",
    "        noise = np.random.normal(0, b, size=hid.shape)\n",
    "        y = dec([hid + noise])\n",
    "        y = grid_of_images_default(y)\n",
    "        out.append(y)\n",
    "    out = np.array(out)    \n",
    "    out = grid_of_images_default(out, shape=(len(space), 1))\n",
    "    O.append(out)\n",
    "O = np.array(O)\n",
    "O = grid_of_images_default(O, shape=(1, len(acts)))\n",
    "imsave('out.png'.format(j), O)"
   ]
  },
  {
   "cell_type": "code",
   "execution_count": null,
   "metadata": {
    "collapsed": true
   },
   "outputs": [],
   "source": [
    "inp = model.layers[0].input\n",
    "hid_layer = model.get_layer('activation_3')\n",
    "hid = hid_layer.output\n",
    "out = model.layers[-1].output\n",
    "enc = K.function([inp], hid)\n",
    "dec = K.function([hid], out)"
   ]
  },
  {
   "cell_type": "code",
   "execution_count": null,
   "metadata": {},
   "outputs": [],
   "source": [
    "hid = enc([X[0:100]])\n",
    "hid_flat = hid.reshape((hid.shape[0],-1))\n",
    "out = []\n",
    "for i, b in enumerate(np.logspace(-1, 1.5, 16)):\n",
    "    k = KernelDensity(bandwidth=b, kernel='gaussian')\n",
    "    k.fit(hid_flat)\n",
    "    g = k.sample(100)\n",
    "    g = g.reshape((g.shape[0],) + hid.shape[1:])\n",
    "    #g = minmax(g, hid)\n",
    "    #th = get_thresholds(g, hid_orig)\n",
    "    #th = th[None, :, None, None]\n",
    "    g = g*(g > 0)\n",
    "    y = dec([g])\n",
    "    #y = (y>0.5)*255\n",
    "    im = grid_of_images_default(y)\n",
    "    out.append(im)\n",
    "    #imsave('out{}.png'.format(i), im)\n",
    "out = np.array(out)    \n",
    "out = grid_of_images_default(out)\n",
    "imsave('out.png', out)"
   ]
  },
  {
   "cell_type": "code",
   "execution_count": null,
   "metadata": {},
   "outputs": [],
   "source": [
    "inp = model.layers[0].input\n",
    "hid_layer = model.get_layer('activation_3')\n",
    "hid = hid_layer.output\n",
    "out = model.layers[-1].output\n",
    "enc = K.function([inp], hid)\n",
    "dec = K.function([hid], out)\n",
    "\n",
    "h = enc([X[0:64]])\n",
    "print(h.shape)\n",
    "h[:]=0.\n",
    "for i in range(h.shape[0]):\n",
    "    h[i, i, 8, 8]  = 100\n",
    "y= dec([h])\n",
    "print(y.shape)\n",
    "y = grid_of_images_default(y)\n",
    "imsave('out.png', y)"
   ]
  },
  {
   "cell_type": "code",
   "execution_count": null,
   "metadata": {
    "collapsed": true
   },
   "outputs": [],
   "source": [
    "data_test = np.load('../../data/hwrt.npz')\n",
    "X_test = data_test['X'] / 255."
   ]
  },
  {
   "cell_type": "code",
   "execution_count": null,
   "metadata": {
    "collapsed": true
   },
   "outputs": [],
   "source": [
    "inp = model.layers[0].input\n",
    "hid_layer = model.get_layer('activation_3')\n",
    "hid = hid_layer.output\n",
    "out = model.layers[-1].output\n",
    "enc = K.function([inp, K.learning_phase()], hid)\n",
    "dec = K.function([hid, K.learning_phase()], out)"
   ]
  },
  {
   "cell_type": "code",
   "execution_count": null,
   "metadata": {},
   "outputs": [],
   "source": [
    "I = X_test[0:100]\n",
    "x = grid_of_images_default(I)\n",
    "hid = enc([I, 0])\n",
    "y = dec([hid, 0])\n",
    "y = grid_of_images_default(y)\n",
    "out = horiz_merge(x, y)\n",
    "imsave('out.png', out)"
   ]
  }
 ],
 "metadata": {
  "anaconda-cloud": {},
  "kernelspec": {
   "display_name": "Python [conda env:py3]",
   "language": "python",
   "name": "conda-env-py3-py"
  },
  "language_info": {
   "codemirror_mode": {
    "name": "ipython",
    "version": 3
   },
   "file_extension": ".py",
   "mimetype": "text/x-python",
   "name": "python",
   "nbconvert_exporter": "python",
   "pygments_lexer": "ipython3",
   "version": "3.5.2"
  }
 },
 "nbformat": 4,
 "nbformat_minor": 2
}
