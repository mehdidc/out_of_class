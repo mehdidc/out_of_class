{
 "cells": [
  {
   "cell_type": "code",
   "execution_count": 41,
   "metadata": {
    "collapsed": true
   },
   "outputs": [],
   "source": [
    "import numpy as np\n",
    "\n",
    "from skimage.io import imsave\n",
    "from machinedesign.autoencoder.interface import load\n",
    "from machinedesign.viz import grid_of_images_default\n",
    "from keras.models import Model\n",
    "from sklearn.decomposition import PCA\n",
    "from sklearn.manifold import TSNE\n",
    "from sklearn.cluster import KMeans\n",
    "from sklearn.neighbors import KernelDensity\n",
    "import pandas as pd\n",
    "from bokeh.plotting import figure, output_file, show, save\n",
    "from bokeh.models import CustomJS, ColumnDataSource, BoxSelectTool, Rect, HoverTool, BoxZoomTool, WheelZoomTool, LassoSelectTool, PanTool, Div\n",
    "from bokeh.plotting import figure, output_file, show\n",
    "from bokeh.layouts import column, row"
   ]
  },
  {
   "cell_type": "code",
   "execution_count": 7,
   "metadata": {
    "collapsed": true
   },
   "outputs": [],
   "source": [
    "dataset = '../../data/digits.npz'\n",
    "data = np.load(dataset)\n",
    "X = data['X']\n",
    "y = data['y'] if 'y' in data else None\n",
    "X = X.astype(np.float32)\n",
    "X /= 255.\n",
    "nb_classes = 10"
   ]
  },
  {
   "cell_type": "code",
   "execution_count": 107,
   "metadata": {},
   "outputs": [
    {
     "name": "stdout",
     "output_type": "stream",
     "text": [
      "_________________________________________________________________\n",
      "Layer (type)                 Output Shape              Param #   \n",
      "=================================================================\n",
      "input_1 (InputLayer)         (None, 1, 28, 28)         0         \n",
      "_________________________________________________________________\n",
      "zero_padding2d_1 (ZeroPaddin (None, 1, 30, 30)         0         \n",
      "_________________________________________________________________\n",
      "conv2d_1 (Conv2D)            (None, 64, 28, 28)        640       \n",
      "_________________________________________________________________\n",
      "p_re_lu_1 (PReLU)            (None, 64, 28, 28)        50176     \n",
      "_________________________________________________________________\n",
      "max_pooling2d_1 (MaxPooling2 (None, 64, 14, 14)        0         \n",
      "_________________________________________________________________\n",
      "conv2d_2 (Conv2D)            (None, 128, 12, 12)       73856     \n",
      "_________________________________________________________________\n",
      "p_re_lu_2 (PReLU)            (None, 128, 12, 12)       18432     \n",
      "_________________________________________________________________\n",
      "max_pooling2d_2 (MaxPooling2 (None, 128, 6, 6)         0         \n",
      "_________________________________________________________________\n",
      "conv2d_3 (Conv2D)            (None, 256, 4, 4)         295168    \n",
      "_________________________________________________________________\n",
      "p_re_lu_3 (PReLU)            (None, 256, 4, 4)         4096      \n",
      "_________________________________________________________________\n",
      "max_pooling2d_3 (MaxPooling2 (None, 256, 2, 2)         0         \n",
      "_________________________________________________________________\n",
      "flatten_1 (Flatten)          (None, 1024)              0         \n",
      "_________________________________________________________________\n",
      "dense_1 (Dense)              (None, 1024)              1049600   \n",
      "_________________________________________________________________\n",
      "p_re_lu_4 (PReLU)            (None, 1024)              1024      \n",
      "_________________________________________________________________\n",
      "dropout_1 (Dropout)          (None, 1024)              0         \n",
      "_________________________________________________________________\n",
      "dense_2 (Dense)              (None, 36)                36900     \n",
      "_________________________________________________________________\n",
      "activation_1 (Activation)    (None, 36)                0         \n",
      "=================================================================\n",
      "Total params: 1,529,892\n",
      "Trainable params: 1,529,892\n",
      "Non-trainable params: 0\n",
      "_________________________________________________________________\n"
     ]
    }
   ],
   "source": [
    "clf.summary()"
   ]
  },
  {
   "cell_type": "code",
   "execution_count": 86,
   "metadata": {},
   "outputs": [
    {
     "name": "stderr",
     "output_type": "stream",
     "text": [
      "/home/mcherti/work/code/external/keras/keras/models.py:283: UserWarning: Error in loading the saved optimizer state. As a result, your model is starting with a freshly initialized optimizer.\n",
      "  warnings.warn('Error in loading the saved optimizer '\n"
     ]
    }
   ],
   "source": [
    "clf = load('../../discr/digits_and_letters')\n",
    "#clf_enc = Model(inputs=clf.layers[0].input, outputs=clf.get_layer('p_re_lu_4').output)\n",
    "clf_enc = Model(inputs=clf.layers[0].input, outputs=clf.layers[0].output)"
   ]
  },
  {
   "cell_type": "code",
   "execution_count": 102,
   "metadata": {
    "collapsed": true
   },
   "outputs": [],
   "source": [
    "folders = ['mnist']\n",
    "nb_gen = 100000\n",
    "Xfull = []\n",
    "yfull = []\n",
    "hfull = []\n",
    "nb_gen_total = 0\n",
    "for i,f in enumerate(folders):\n",
    "    gen = np.load('../results/{}/gen/generated.npz'.format(f))\n",
    "    Xgen = gen['generated'][0:nb_gen]\n",
    "    ygen = np.array([i + nb_classes] * len(Xgen))\n",
    "    hgen = clf_enc.predict(Xgen)    \n",
    "    hgen = hgen.reshape((hgen.shape[0], -1))\n",
    "    Xfull.append(Xgen)\n",
    "    yfull.append(ygen)\n",
    "    hfull.append(hgen)\n",
    "    nb_gen_total += len(Xgen)\n",
    "\n",
    "Xfull.append((X[0:nb_gen]))\n",
    "yfull.append(y[0:nb_gen])\n",
    "htrue = clf_enc.predict(X[0:nb_gen])\n",
    "htrue = htrue.reshape((htrue.shape[0], -1))\n",
    "hfull.append(htrue)\n",
    "\n",
    "Xfull = np.concatenate(Xfull, axis=0)\n",
    "yfull = np.concatenate(yfull, axis=0)\n",
    "hfull = np.concatenate(hfull, axis=0)\n",
    "\n",
    "\n",
    "Xgen = Xfull[0:nb_gen_total]\n",
    "ygen = yfull[0:nb_gen_total]\n",
    "hgen = hfull[0:nb_gen_total]"
   ]
  },
  {
   "cell_type": "code",
   "execution_count": null,
   "metadata": {
    "collapsed": true
   },
   "outputs": [],
   "source": [
    "hfull_2d = TSNE(perplexity=40).fit_transform(hfull)"
   ]
  },
  {
   "cell_type": "code",
   "execution_count": 19,
   "metadata": {},
   "outputs": [
    {
     "name": "stderr",
     "output_type": "stream",
     "text": [
      "08/29/2017,12:19:01 ## Session output file 'viz.html' already exists, will be overwritten.\n"
     ]
    }
   ],
   "source": [
    "output_file('viz.html')\n",
    "\n",
    "div = Div(width=100)\n",
    "\n",
    "callback = CustomJS(args=dict(div=div), code=\"\"\"\n",
    "        var geometry = cb_data['geometry'];\n",
    "        var width = geometry['x1'] - geometry['x0'];\n",
    "        var height = geometry['y1'] - geometry['y0'];\n",
    "        var x = geometry['x0'] + width/2;\n",
    "        var y = geometry['y0'] + height/2;\n",
    "        div.text = x.toFixed(2) + \",\" + (x+width).toFixed(2) + \",\" + y.toFixed(2) + \",\" + (y+height).toFixed(2);\n",
    "    \"\"\")\n",
    "tools = [BoxZoomTool(), WheelZoomTool(), LassoSelectTool(), PanTool(), BoxSelectTool(callback=callback)]\n",
    "p = figure(plot_width=1200,\n",
    "           plot_height=700,\n",
    "           tools=tools,\n",
    "           title=\"Select Below\")\n",
    "\n",
    "colors = ['orange'] * 10 + ['red', 'blue', 'green', 'lightgreen', 'lightblue', 'lightred']\n",
    "hcolors = [colors[y] for y in yfull]\n",
    "p.circle(\n",
    "    hfull_2d[:, 0],\n",
    "    hfull_2d[:, 1],\n",
    "    color=hcolors,\n",
    ")\n",
    "layout = column(p, div)\n",
    "show(layout)"
   ]
  },
  {
   "cell_type": "code",
   "execution_count": 34,
   "metadata": {},
   "outputs": [
    {
     "name": "stderr",
     "output_type": "stream",
     "text": [
      "/home/mcherti/miniconda/envs/py3/lib/python3.5/site-packages/skimage/util/dtype.py:110: UserWarning: Possible precision loss when converting from float64 to uint8\n",
      "  \"%s to %s\" % (dtypeobj_in, dtypeobj))\n"
     ]
    }
   ],
   "source": [
    "x1, x2, y1, y2 = -1.18,-0.87,-6.78,3.29\n",
    "mask = (hfull_2d[:, 0] >= x1) * (hfull_2d[:, 0] <= x2) * (hfull_2d[:, 1] >= y1) * (hfull_2d[:, 1] <= y2)\n",
    "xmask = Xfull[mask]\n",
    "im = grid_of_images_default(xmask)\n",
    "imsave('clus.png', im)"
   ]
  },
  {
   "cell_type": "code",
   "execution_count": null,
   "metadata": {
    "collapsed": true
   },
   "outputs": [],
   "source": [
    "n_clusters = 500\n",
    "clus = KMeans(n_clusters=n_clusters)\n",
    "clus.fit(hgen)\n",
    "clusters = clus.predict(hgen)"
   ]
  },
  {
   "cell_type": "code",
   "execution_count": 105,
   "metadata": {
    "collapsed": true
   },
   "outputs": [],
   "source": [
    "indices = np.arange(n_clusters)\n",
    "intra_distances = []\n",
    "centers = []\n",
    "for cl in range(n_clusters):\n",
    "    h = hgen[clusters==cl]\n",
    "    center = clus.cluster_centers_[cl]\n",
    "    centers.append(center)\n",
    "    h = h.reshape((h.shape[0], -1))\n",
    "    intra = (np.abs(h - center)).max()\n",
    "    intra_distances.append(intra)\n",
    "indices = np.argsort(intra_distances)\n",
    "centers = np.array(centers)"
   ]
  },
  {
   "cell_type": "code",
   "execution_count": 106,
   "metadata": {},
   "outputs": [
    {
     "name": "stderr",
     "output_type": "stream",
     "text": [
      "/home/mcherti/miniconda/envs/py3/lib/python3.5/site-packages/skimage/util/dtype.py:110: UserWarning: Possible precision loss when converting from float64 to uint8\n",
      "  \"%s to %s\" % (dtypeobj_in, dtypeobj))\n"
     ]
    }
   ],
   "source": [
    "imlist = []\n",
    "for cl in indices:\n",
    "    x = Xgen[clusters==cl][0:100]\n",
    "    im = grid_of_images_default(x, shape=(10, 10))\n",
    "    imlist.append(im)\n",
    "im = np.array(imlist)\n",
    "im = grid_of_images_default(im)\n",
    "imsave('clus.png', im)"
   ]
  },
  {
   "cell_type": "code",
   "execution_count": 82,
   "metadata": {},
   "outputs": [
    {
     "name": "stderr",
     "output_type": "stream",
     "text": [
      "/home/mcherti/miniconda/envs/py3/lib/python3.5/site-packages/skimage/util/dtype.py:110: UserWarning: Possible precision loss when converting from float64 to uint8\n",
      "  \"%s to %s\" % (dtypeobj_in, dtypeobj))\n"
     ]
    }
   ],
   "source": [
    "imlist = []\n",
    "for cl in indices:\n",
    "    x = Xgen[clusters==cl]\n",
    "    if len(x)<16:\n",
    "        continue\n",
    "    m = KernelDensity(bandwidth=0.01)\n",
    "    shape = x.shape\n",
    "    x = x.reshape((x.shape[0], -1))\n",
    "    m.fit(x)\n",
    "    yy = m.sample(100)\n",
    "    yy = yy.reshape((yy.shape[0],) + shape[1:])\n",
    "    im = grid_of_images_default(yy, shape=(10, 10))\n",
    "    imlist.append(im)\n",
    "im = np.array(imlist)\n",
    "im = grid_of_images_default(im)\n",
    "imsave('clus.png', im)"
   ]
  }
 ],
 "metadata": {
  "anaconda-cloud": {},
  "kernelspec": {
   "display_name": "Python [conda env:py3]",
   "language": "python",
   "name": "conda-env-py3-py"
  },
  "language_info": {
   "codemirror_mode": {
    "name": "ipython",
    "version": 3
   },
   "file_extension": ".py",
   "mimetype": "text/x-python",
   "name": "python",
   "nbconvert_exporter": "python",
   "pygments_lexer": "ipython3",
   "version": "3.5.2"
  }
 },
 "nbformat": 4,
 "nbformat_minor": 2
}
