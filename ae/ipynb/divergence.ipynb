{
 "cells": [
  {
   "cell_type": "code",
   "execution_count": 23,
   "metadata": {},
   "outputs": [],
   "source": [
    "import os\n",
    "os.environ['THEANO_FLAGS'] = 'device=cuda'\n",
    "from machinedesign.autoencoder.interface import load\n",
    "import numpy as np\n",
    "import keras.backend as K\n",
    "from scipy.linalg import sqrtm\n",
    "import theano.tensor as T\n",
    "from keras.models import Model\n",
    "from keras.layers import Input\n",
    "\n",
    "from machinedesign.viz import grid_of_images_default\n",
    "from skimage.io import imsave\n",
    "from machinedesign.autoencoder.interface import _apply_noise, _apply_binarization\n",
    "def gaussian_kernel(A, B, sigmas=[1], backend=K):\n",
    "    A_ = A[:, None, :]\n",
    "    B_ = B[None, :, :]\n",
    "    out = 0\n",
    "    for sigma in sigmas:\n",
    "        m = backend.abs(A_ - B_).sum(axis=2)\n",
    "        #out = backend.abs(-m / (2 * sigma**2))\n",
    "        out += m\n",
    "    return out.mean()\n",
    "\n",
    "\n",
    "def compute_mmd(X, Y, kernel=gaussian_kernel):\n",
    "    # https://arxiv.org/pdf/1502.02761.pdf\n",
    "    phi = kernel\n",
    "    a = phi(X, X)\n",
    "    b = phi(X, Y)\n",
    "    c = phi(Y, Y)\n",
    "    N = X.shape[0]\n",
    "    M = Y.shape[0]\n",
    "    mmd_sqr = (1. / (N**2)) * a - (2. / (N * M)) * b + (1. / M**2) * c\n",
    "    return mmd_sqr\n",
    "\n",
    "\n",
    "def compute_frechet(X, Y):\n",
    "    # https://arxiv.org/pdf/1706.08500.pdf\n",
    "    X = X.reshape((X.shape[0], -1))\n",
    "    Y = Y.reshape((Y.shape[0], -1))\n",
    "\n",
    "    mu_x = X.mean(axis=0)\n",
    "    mu_y = Y.mean(axis=0)\n",
    "\n",
    "    cov_x = T.cov(X.T)\n",
    "    cov_y = T.cov(Y.T)\n",
    "\n",
    "    return ((mu_x - mu_y)**2).sum() + T.trace(cov_x + cov_y -  2 * sqrtm(np.dot(cov_x, cov_y)))"
   ]
  },
  {
   "cell_type": "code",
   "execution_count": null,
   "metadata": {},
   "outputs": [],
   "source": []
  },
  {
   "cell_type": "code",
   "execution_count": 2,
   "metadata": {},
   "outputs": [],
   "source": [
    "dataset = '../../data/digits.npz'\n",
    "data = np.load(dataset)\n",
    "X = data['X']\n",
    "y = data['y'] if 'y' in data else None\n",
    "labels = y\n",
    "X = X.astype(np.float32)\n",
    "X /= 255."
   ]
  },
  {
   "cell_type": "code",
   "execution_count": 34,
   "metadata": {},
   "outputs": [],
   "source": [
    "#folder = '../results/mnist'\n",
    "folder = '../results/jobs/c66d4d7f3ef76fd52b2c6b354e94c3d0'"
   ]
  },
  {
   "cell_type": "code",
   "execution_count": 35,
   "metadata": {},
   "outputs": [],
   "source": [
    "model = load('../results/{}'.format(folder))"
   ]
  },
  {
   "cell_type": "code",
   "execution_count": 36,
   "metadata": {},
   "outputs": [
    {
     "name": "stdout",
     "output_type": "stream",
     "text": [
      "_________________________________________________________________\n",
      "Layer (type)                 Output Shape              Param #   \n",
      "=================================================================\n",
      "input_1 (InputLayer)         (None, 1, 28, 28)         0         \n",
      "_________________________________________________________________\n",
      "model_1 (Model)              (None, 1, 28, 28)         0         \n",
      "_________________________________________________________________\n",
      "model_2 (Model)              (None, 1, 28, 28)         1645441   \n",
      "=================================================================\n",
      "Total params: 1,645,441\n",
      "Trainable params: 1,645,441\n",
      "Non-trainable params: 0\n",
      "_________________________________________________________________\n"
     ]
    }
   ],
   "source": [
    "model.summary()"
   ]
  },
  {
   "cell_type": "code",
   "execution_count": 37,
   "metadata": {},
   "outputs": [
    {
     "ename": "ValueError",
     "evalue": "No such layer: activation_3",
     "output_type": "error",
     "traceback": [
      "\u001b[0;31m---------------------------------------------------------------------------\u001b[0m",
      "\u001b[0;31mValueError\u001b[0m                                Traceback (most recent call last)",
      "\u001b[0;32m<ipython-input-37-1d30d8782fc4>\u001b[0m in \u001b[0;36m<module>\u001b[0;34m()\u001b[0m\n\u001b[1;32m      1\u001b[0m \u001b[0;31m#mnist\u001b[0m\u001b[0;34m\u001b[0m\u001b[0;34m\u001b[0m\u001b[0m\n\u001b[1;32m      2\u001b[0m \u001b[0minp\u001b[0m \u001b[0;34m=\u001b[0m \u001b[0mmodel\u001b[0m\u001b[0;34m.\u001b[0m\u001b[0mlayers\u001b[0m\u001b[0;34m[\u001b[0m\u001b[0;36m0\u001b[0m\u001b[0;34m]\u001b[0m\u001b[0;34m.\u001b[0m\u001b[0minput\u001b[0m\u001b[0;34m\u001b[0m\u001b[0m\n\u001b[0;32m----> 3\u001b[0;31m \u001b[0mhid_layer\u001b[0m \u001b[0;34m=\u001b[0m \u001b[0mmodel\u001b[0m\u001b[0;34m.\u001b[0m\u001b[0mget_layer\u001b[0m\u001b[0;34m(\u001b[0m\u001b[0;34m'activation_3'\u001b[0m\u001b[0;34m)\u001b[0m\u001b[0;34m\u001b[0m\u001b[0m\n\u001b[0m\u001b[1;32m      4\u001b[0m \u001b[0mhid\u001b[0m \u001b[0;34m=\u001b[0m \u001b[0mhid_layer\u001b[0m\u001b[0;34m.\u001b[0m\u001b[0moutput\u001b[0m\u001b[0;34m\u001b[0m\u001b[0m\n\u001b[1;32m      5\u001b[0m \u001b[0mout\u001b[0m \u001b[0;34m=\u001b[0m \u001b[0mmodel\u001b[0m\u001b[0;34m.\u001b[0m\u001b[0mlayers\u001b[0m\u001b[0;34m[\u001b[0m\u001b[0;34m-\u001b[0m\u001b[0;36m1\u001b[0m\u001b[0;34m]\u001b[0m\u001b[0;34m.\u001b[0m\u001b[0moutput\u001b[0m\u001b[0;34m\u001b[0m\u001b[0m\n",
      "\u001b[0;32m~/work/code/external/keras/keras/engine/topology.py\u001b[0m in \u001b[0;36mget_layer\u001b[0;34m(self, name, index)\u001b[0m\n\u001b[1;32m   1868\u001b[0m                 \u001b[0;32mreturn\u001b[0m \u001b[0mlayer\u001b[0m\u001b[0;34m\u001b[0m\u001b[0m\n\u001b[1;32m   1869\u001b[0m \u001b[0;34m\u001b[0m\u001b[0m\n\u001b[0;32m-> 1870\u001b[0;31m         \u001b[0;32mraise\u001b[0m \u001b[0mValueError\u001b[0m\u001b[0;34m(\u001b[0m\u001b[0;34m'No such layer: '\u001b[0m \u001b[0;34m+\u001b[0m \u001b[0mname\u001b[0m\u001b[0;34m)\u001b[0m\u001b[0;34m\u001b[0m\u001b[0m\n\u001b[0m\u001b[1;32m   1871\u001b[0m \u001b[0;34m\u001b[0m\u001b[0m\n\u001b[1;32m   1872\u001b[0m     \u001b[0;34m@\u001b[0m\u001b[0mproperty\u001b[0m\u001b[0;34m\u001b[0m\u001b[0m\n",
      "\u001b[0;31mValueError\u001b[0m: No such layer: activation_3"
     ]
    }
   ],
   "source": [
    "#mnist\n",
    "inp = model.layers[0].input\n",
    "hid_layer = model.get_layer('activation_3')\n",
    "hid = hid_layer.output\n",
    "out = model.layers[-1].output\n",
    "enc = Model(inp, hid)\n",
    "\n",
    "x = Input(model.layers[0].input_shape[1:])\n",
    "y = Input(model.layers[0].input_shape[1:])\n",
    "hx = enc(x)\n",
    "hy = enc(y)\n",
    "hx = hx.reshape((hx.shape[0], -1))\n",
    "hy = hy.reshape((hy.shape[0], -1))\n",
    "\n",
    "#d = compute_mmd(hx, hy)\n",
    "d = (( (hx).mean(axis=0) - (hy).mean(axis=0))**2).mean()\n",
    "g = K.gradients(d, x)\n",
    "get_grad = K.function([x, y], [g])\n",
    "get_loss = K.function([x, y], [d])"
   ]
  },
  {
   "cell_type": "code",
   "execution_count": 99,
   "metadata": {},
   "outputs": [
    {
     "name": "stdout",
     "output_type": "stream",
     "text": [
      "3.9829885959625244\n",
      "3.9829885959625244\n",
      "3.3729002475738525\n",
      "2.882402181625366\n",
      "2.487187385559082\n",
      "2.161576509475708\n",
      "1.8963593244552612\n",
      "1.6709649562835693\n",
      "1.4900469779968262\n",
      "1.3492273092269897\n",
      "1.2361449003219604\n",
      "1.1525599956512451\n",
      "1.1525599956512451\n",
      "1.0816725492477417\n",
      "1.0179885625839233\n",
      "0.9578542709350586\n",
      "0.904114842414856\n",
      "0.8587921857833862\n",
      "0.8226959705352783\n",
      "0.7849229574203491\n",
      "0.7502723336219788\n",
      "0.7238856554031372\n",
      "0.6990135312080383\n",
      "0.6990135312080383\n",
      "0.6772550344467163\n",
      "0.6528810262680054\n",
      "0.6326917409896851\n",
      "0.6160693168640137\n",
      "0.5985620021820068\n",
      "0.5839024782180786\n",
      "0.5720347762107849\n",
      "0.5643101930618286\n",
      "0.5583369135856628\n",
      "0.5521355271339417\n",
      "0.5521355271339417\n",
      "0.5462051033973694\n",
      "0.541883111000061\n",
      "0.5367454290390015\n",
      "0.5338890552520752\n",
      "0.5300807952880859\n",
      "0.5265278220176697\n",
      "0.5234202146530151\n",
      "0.5186738967895508\n",
      "0.5140268802642822\n",
      "0.5102618336677551\n",
      "0.5102618336677551\n",
      "0.5065734386444092\n",
      "0.5035746097564697\n",
      "0.4964268207550049\n",
      "0.48893484473228455\n",
      "0.48269855976104736\n",
      "0.4778245687484741\n",
      "0.4737517833709717\n",
      "0.4703792333602905\n",
      "0.4677022099494934\n",
      "0.46564868092536926\n",
      "0.46564868092536926\n",
      "0.46405094861984253\n",
      "0.461945116519928\n",
      "0.4602060914039612\n",
      "0.4587007761001587\n",
      "0.45749786496162415\n",
      "0.4564969539642334\n",
      "0.45566225051879883\n",
      "0.4549705386161804\n",
      "0.4544048309326172\n",
      "0.45441704988479614\n",
      "0.45441704988479614\n",
      "0.4545121490955353\n",
      "0.454639196395874\n",
      "0.4553140103816986\n",
      "0.45643678307533264\n",
      "0.45752066373825073\n",
      "0.4588083326816559\n",
      "0.4600505232810974\n",
      "0.4611978232860565\n",
      "0.4622642397880554\n",
      "0.4625014662742615\n",
      "0.4625014662742615\n",
      "0.46281468868255615\n",
      "0.46313315629959106\n",
      "0.4625319242477417\n",
      "0.4613298177719116\n",
      "0.4597145915031433\n",
      "0.45840293169021606\n",
      "0.4569029211997986\n",
      "0.4561944603919983\n",
      "0.4554119408130646\n",
      "0.4548516273498535\n",
      "0.4548516273498535\n",
      "0.45443278551101685\n",
      "0.45415934920310974\n",
      "0.4540066421031952\n",
      "0.45393797755241394\n",
      "0.45391878485679626\n",
      "0.45393815636634827\n",
      "0.4540649652481079\n",
      "0.4539010226726532\n",
      "0.4537612795829773\n",
      "0.4539123475551605\n",
      "0.4539123475551605\n",
      "0.454196959733963\n",
      "0.45418351888656616\n",
      "0.45421573519706726\n",
      "0.4536716938018799\n",
      "0.45341551303863525\n",
      "0.4533225893974304\n",
      "0.45310938358306885\n",
      "0.45299720764160156\n",
      "0.45293378829956055\n"
     ]
    }
   ],
   "source": [
    "x = np.random.uniform(size=(9, 1, 28, 28))\n",
    "y = X[labels==0][0:100]\n",
    "for i in range(100):\n",
    "    g, = get_grad([x, y])\n",
    "    x += 0.1 * (model.predict(x) - x) -  2*g\n",
    "    np.clip(x, 0, 1)\n",
    "    l, = get_loss([x, y])\n",
    "    print(l)\n",
    "    if i % 10 == 0:\n",
    "        print(l)"
   ]
  },
  {
   "cell_type": "code",
   "execution_count": 100,
   "metadata": {},
   "outputs": [
    {
     "name": "stderr",
     "output_type": "stream",
     "text": [
      "/home/mcherti/miniconda/envs/py3/lib/python3.5/site-packages/skimage/util/dtype.py:122: UserWarning: Possible precision loss when converting from float64 to uint8\n",
      "  .format(dtypeobj_in, dtypeobj_out))\n"
     ]
    }
   ],
   "source": [
    "xx = x\n",
    "for _ in range(0):\n",
    "    xx = model.predict(xx)\n",
    "im = grid_of_images_default(xx)\n",
    "imsave('out.png', im)"
   ]
  },
  {
   "cell_type": "code",
   "execution_count": 38,
   "metadata": {},
   "outputs": [
    {
     "name": "stderr",
     "output_type": "stream",
     "text": [
      "/home/mcherti/miniconda/envs/py3/lib/python3.5/site-packages/skimage/util/dtype.py:122: UserWarning: Possible precision loss when converting from float64 to uint8\n",
      "  .format(dtypeobj_in, dtypeobj_out))\n"
     ]
    }
   ],
   "source": [
    "x = np.random.uniform(size=(100, 1, 28, 28))\n",
    "for _ in range(100):\n",
    "    #x = _apply_noise('salt_and_pepper', {'proba': 0.1}, x)\n",
    "    x = model.predict(x)\n",
    "    #x = _apply_binarization('sample_bernoulli', {}, x)\n",
    "x = model.predict(x)\n",
    "im = grid_of_images_default(x)\n",
    "imsave('out.png', im)"
   ]
  },
  {
   "cell_type": "code",
   "execution_count": null,
   "metadata": {},
   "outputs": [],
   "source": []
  }
 ],
 "metadata": {
  "kernelspec": {
   "display_name": "Python 3",
   "language": "python",
   "name": "python3"
  },
  "language_info": {
   "codemirror_mode": {
    "name": "ipython",
    "version": 3
   },
   "file_extension": ".py",
   "mimetype": "text/x-python",
   "name": "python",
   "nbconvert_exporter": "python",
   "pygments_lexer": "ipython3",
   "version": "3.5.4"
  }
 },
 "nbformat": 4,
 "nbformat_minor": 2
}
