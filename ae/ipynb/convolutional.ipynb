{
 "cells": [
  {
   "cell_type": "code",
   "execution_count": 3,
   "metadata": {
    "collapsed": false
   },
   "outputs": [
    {
     "name": "stderr",
     "output_type": "stream",
     "text": [
      "Using Theano backend.\n"
     ]
    }
   ],
   "source": [
    "%matplotlib inline\n",
    "import seaborn as sbn\n",
    "sbn.set_style('white')\n",
    "import numpy as np\n",
    "from skimage.io import imsave\n",
    "import matplotlib.pyplot as plt\n",
    "from IPython.display import Image\n",
    "from sklearn.manifold import TSNE\n",
    "\n",
    "from sklearn.cluster import KMeans, MeanShift\n",
    "from sklearn.mixture import GaussianMixture\n",
    "from sklearn.neighbors import KernelDensity\n",
    "from machinedesign.autoencoder.interface import _apply_noise, _apply_binarization\n",
    "from keras.models import Model\n",
    "from keras.layers import InputLayer\n",
    "from keras import backend as K\n",
    "from machinedesign.autoencoder.interface import load\n",
    "from machinedesign.viz import grid_of_images_default\n",
    "from sklearn.ensemble import RandomForestClassifier\n",
    "from PIL import Image\n",
    "import math\n",
    "from collections import defaultdict\n",
    "from scipy.spatial.distance import cdist\n",
    "from lapjv import lapjv"
   ]
  },
  {
   "cell_type": "code",
   "execution_count": 4,
   "metadata": {
    "collapsed": true
   },
   "outputs": [],
   "source": [
    "dataset = '../../data/digits.npz'\n",
    "data = np.load(dataset)\n",
    "X = data['X']\n",
    "y = data['y'] if 'y' in data else None\n",
    "X = X.astype(np.float32)\n",
    "X /= 255."
   ]
  },
  {
   "cell_type": "code",
   "execution_count": 5,
   "metadata": {
    "collapsed": true
   },
   "outputs": [],
   "source": [
    "folder = '../results/jobs/ab45d34bd45790c492f913e11f28b1dd//'"
   ]
  },
  {
   "cell_type": "code",
   "execution_count": 6,
   "metadata": {
    "collapsed": false
   },
   "outputs": [],
   "source": [
    "model = load('../results/{}'.format(folder))"
   ]
  },
  {
   "cell_type": "code",
   "execution_count": 7,
   "metadata": {
    "collapsed": false
   },
   "outputs": [
    {
     "name": "stdout",
     "output_type": "stream",
     "text": [
      "_________________________________________________________________\n",
      "Layer (type)                 Output Shape              Param #   \n",
      "=================================================================\n",
      "input_1 (InputLayer)         (None, 1, 28, 28)         0         \n",
      "_________________________________________________________________\n",
      "conv2d_1 (Conv2D)            (None, 128, 24, 24)       3328      \n",
      "_________________________________________________________________\n",
      "activation_1 (Activation)    (None, 128, 24, 24)       0         \n",
      "_________________________________________________________________\n",
      "conv2d_2 (Conv2D)            (None, 128, 20, 20)       409728    \n",
      "_________________________________________________________________\n",
      "activation_2 (Activation)    (None, 128, 20, 20)       0         \n",
      "_________________________________________________________________\n",
      "conv2d_3 (Conv2D)            (None, 16, 16, 16)        51216     \n",
      "_________________________________________________________________\n",
      "activation_3 (Activation)    (None, 16, 16, 16)        0         \n",
      "_________________________________________________________________\n",
      "winner_take_all_spatial_1 (w (None, 16, 16, 16)        0         \n",
      "_________________________________________________________________\n",
      "up_conv2d_1 (UpConv2D)       (None, 128, 20, 20)       51328     \n",
      "_________________________________________________________________\n",
      "activation_4 (Activation)    (None, 128, 20, 20)       0         \n",
      "_________________________________________________________________\n",
      "up_conv2d_2 (UpConv2D)       (None, 128, 24, 24)       409728    \n",
      "_________________________________________________________________\n",
      "activation_5 (Activation)    (None, 128, 24, 24)       0         \n",
      "_________________________________________________________________\n",
      "up_conv2d_3 (UpConv2D)       (None, 1, 28, 28)         3201      \n",
      "_________________________________________________________________\n",
      "activation_6 (Activation)    (None, 1, 28, 28)         0         \n",
      "=================================================================\n",
      "Total params: 928,529\n",
      "Trainable params: 928,529\n",
      "Non-trainable params: 0\n",
      "_________________________________________________________________\n"
     ]
    }
   ],
   "source": [
    "model.summary()"
   ]
  },
  {
   "cell_type": "code",
   "execution_count": 9,
   "metadata": {
    "collapsed": false
   },
   "outputs": [],
   "source": [
    "#mnist\n",
    "inp = model.layers[0].input\n",
    "hid_layer = model.get_layer('winner_take_all_channel_1')\n",
    "hid = hid_layer.output\n",
    "out = model.layers[-1].output\n",
    "enc = K.function([inp], hid)\n",
    "dec = K.function([hid], out)"
   ]
  },
  {
   "cell_type": "code",
   "execution_count": 10,
   "metadata": {
    "collapsed": true
   },
   "outputs": [],
   "source": [
    "#mnist\n",
    "inp = model.layers[0].input\n",
    "hid_layer = model.get_layer('winner_take_all_spatial_1')\n",
    "hid = hid_layer.output\n",
    "out = model.layers[-1].output\n",
    "enc = K.function([inp], hid)\n",
    "dec = K.function([hid], out)"
   ]
  },
  {
   "cell_type": "code",
   "execution_count": null,
   "metadata": {
    "collapsed": true
   },
   "outputs": [],
   "source": [
    "# *_dense_*\n",
    "inp = model.layers[0].input\n",
    "hid_layer = model.get_layer('activation_4')\n",
    "hid = hid_layer.output\n",
    "out = model.layers[-1].output\n",
    "enc = K.function([inp], hid)\n",
    "dec = K.function([hid], out)"
   ]
  },
  {
   "cell_type": "code",
   "execution_count": null,
   "metadata": {
    "collapsed": true
   },
   "outputs": [],
   "source": [
    "# *_dcgan_*\n",
    "inp = model.layers[0].input\n",
    "hid_layer = model.get_layer('activation_4')\n",
    "hid = hid_layer.output\n",
    "out = model.layers[-1].output\n",
    "enc = K.function([inp], hid)\n",
    "dec = K.function([hid], out)"
   ]
  },
  {
   "cell_type": "code",
   "execution_count": 91,
   "metadata": {
    "collapsed": true
   },
   "outputs": [],
   "source": [
    "# *_vertebrate_* or *_vertebrate_deep_*\n",
    "inp_layers = [ \n",
    "    model.get_layer('winner_take_all_spatial_1'),\n",
    "    model.get_layer('winner_take_all_spatial_2'),\n",
    "    model.get_layer('winner_take_all_spatial_3'),\n",
    "]\n",
    "inp = [l.output for l in inp_layers]\n",
    "out = [\n",
    "    model.get_layer('activation_4').output,\n",
    "    model.get_layer('activation_5').output,\n",
    "    model.get_layer('activation_6').output,\n",
    "    model.get_layer('activation_7').output\n",
    "]\n",
    "decs = K.function(inp, out)\n",
    "dec = K.function(inp, model.get_layer('activation_7').output)\n",
    "enc = K.function([model.layers[0].input], inp)"
   ]
  },
  {
   "cell_type": "code",
   "execution_count": null,
   "metadata": {
    "collapsed": true
   },
   "outputs": [],
   "source": [
    "# _deep2\n",
    "inp_layers = [ \n",
    "    model.get_layer('winner_take_all_spatial_1'),\n",
    "    model.get_layer('winner_take_all_spatial_2'),\n",
    "    model.get_layer('winner_take_all_spatial_3'),\n",
    "    model.get_layer('winner_take_all_spatial_4'),\n",
    "]\n",
    "inp = [l.output for l in inp_layers]\n",
    "out = [\n",
    "    model.get_layer('activation_5').output,\n",
    "    model.get_layer('activation_7').output,\n",
    "    model.get_layer('activation_10').output,\n",
    "    model.get_layer('activation_14').output,\n",
    "    model.get_layer('activation_15').output\n",
    "]\n",
    "decs = K.function(inp, out)\n",
    "dec = K.function(inp, model.get_layer('activation_10').output)\n",
    "enc = K.function([model.layers[0].input], inp)"
   ]
  },
  {
   "cell_type": "code",
   "execution_count": null,
   "metadata": {
    "collapsed": true
   },
   "outputs": [],
   "source": [
    "# _deep3\n",
    "inp_layers = [ \n",
    "    model.get_layer('winner_take_all_spatial_1'),\n",
    "    model.get_layer('winner_take_all_spatial_2'),\n",
    "    model.get_layer('winner_take_all_spatial_3'),\n",
    "    model.get_layer('winner_take_all_spatial_4'),\n",
    "]\n",
    "inp = [l.output for l in inp_layers]\n",
    "out = [\n",
    "    model.get_layer('activation_5').output,\n",
    "    model.get_layer('activation_6').output,\n",
    "    model.get_layer('activation_7').output,\n",
    "    model.get_layer('activation_8').output,\n",
    "    model.get_layer('activation_9').output\n",
    "]\n",
    "decs = K.function(inp, out)\n",
    "dec = K.function(inp, model.get_layer('activation_9').output)\n",
    "enc = K.function([model.layers[0].input], inp)"
   ]
  },
  {
   "cell_type": "code",
   "execution_count": 92,
   "metadata": {
    "collapsed": false
   },
   "outputs": [
    {
     "name": "stdout",
     "output_type": "stream",
     "text": [
      "(64, 64, 24, 24)\n",
      "(64, 64, 20, 20)\n",
      "(64, 64, 16, 16)\n"
     ]
    },
    {
     "name": "stderr",
     "output_type": "stream",
     "text": [
      "/home/mcherti/miniconda/envs/py3/lib/python3.5/site-packages/skimage/util/dtype.py:110: UserWarning: Possible precision loss when converting from float64 to uint8\n",
      "  \"%s to %s\" % (dtypeobj_in, dtypeobj))\n"
     ]
    }
   ],
   "source": [
    "# *_vertebrate\n",
    "H = [np.zeros((layer.input_shape[1],) + layer.input_shape[1:]) for layer in inp_layers]\n",
    "ind = np.arange(inp_layers[0].input_shape[1])\n",
    "for h in H:\n",
    "    print(h.shape)\n",
    "IDX = 2\n",
    "H[IDX][ind, ind, 2, 2] = 100.0\n",
    "outs = decs(H)\n",
    "im = grid_of_images_default(outs[IDX], normalize=True)\n",
    "imsave('../results/{}/features.png'.format(folder), im)"
   ]
  },
  {
   "cell_type": "code",
   "execution_count": null,
   "metadata": {
    "collapsed": true
   },
   "outputs": [],
   "source": [
    "# *_vertebrate\n",
    "H = [np.zeros((layer.input_shape[1],) + layer.input_shape[1:]) for layer in inp_layers]\n",
    "ind = np.arange(inp_layers[0].input_shape[1])\n",
    "for h in H:\n",
    "    print(h.shape)\n",
    "IDX = 0\n",
    "H[IDX][ind, ind, 2, 2] = 100.0\n",
    "out = dec(H)\n",
    "im = grid_of_images_default(out, normalize=True)\n",
    "imsave('../results/{}/features.png'.format(folder), im)"
   ]
  },
  {
   "cell_type": "code",
   "execution_count": 20,
   "metadata": {
    "collapsed": false
   },
   "outputs": [
    {
     "name": "stderr",
     "output_type": "stream",
     "text": [
      "/home/ubuntu/miniconda2/envs/python3/lib/python3.5/site-packages/skimage/util/dtype.py:110: UserWarning: Possible precision loss when converting from float64 to uint8\n",
      "  \"%s to %s\" % (dtypeobj_in, dtypeobj))\n"
     ]
    }
   ],
   "source": [
    "H = np.zeros((16,) + hid_layer.input_shape[1:])\n",
    "H[np.arange(H.shape[0]), np.arange(H.shape[0]), 8, 8] = 30.0\n",
    "x  = dec([H])\n",
    "im = grid_of_images_default(x, normalize=True)\n",
    "imsave('out.png'.format(folder), im)"
   ]
  },
  {
   "cell_type": "code",
   "execution_count": 13,
   "metadata": {
    "collapsed": false
   },
   "outputs": [
    {
     "name": "stdout",
     "output_type": "stream",
     "text": [
      "(9, 16, 16, 16)\n"
     ]
    },
    {
     "name": "stderr",
     "output_type": "stream",
     "text": [
      "/home/ubuntu/miniconda2/envs/python3/lib/python3.5/site-packages/skimage/util/dtype.py:110: UserWarning: Possible precision loss when converting from float64 to uint8\n",
      "  \"%s to %s\" % (dtypeobj_in, dtypeobj))\n"
     ]
    }
   ],
   "source": [
    "H = enc([X[0:9]])\n",
    "print(H.shape)\n",
    "#H[:, 99]=0.\n",
    "#H[:, 62]=0.\n",
    "#H[:, 106]=0.\n",
    "#H[:, 86]=0.\n",
    "x  = dec([H])\n",
    "im = grid_of_images_default(x, normalize=True)\n",
    "imsave(\"out.png\", im)"
   ]
  },
  {
   "cell_type": "code",
   "execution_count": 14,
   "metadata": {
    "collapsed": false
   },
   "outputs": [
    {
     "ename": "NameError",
     "evalue": "name 'decs' is not defined",
     "output_type": "error",
     "traceback": [
      "\u001b[0;31m---------------------------------------------------------------------------\u001b[0m",
      "\u001b[0;31mNameError\u001b[0m                                 Traceback (most recent call last)",
      "\u001b[0;32m<ipython-input-14-687bf25c80bb>\u001b[0m in \u001b[0;36m<module>\u001b[0;34m()\u001b[0m\n\u001b[1;32m      2\u001b[0m \u001b[0mx\u001b[0m \u001b[0;34m=\u001b[0m \u001b[0mX\u001b[0m\u001b[0;34m[\u001b[0m\u001b[0;36m2\u001b[0m\u001b[0;34m:\u001b[0m\u001b[0;36m3\u001b[0m\u001b[0;34m]\u001b[0m\u001b[0;34m\u001b[0m\u001b[0m\n\u001b[1;32m      3\u001b[0m \u001b[0mh\u001b[0m \u001b[0;34m=\u001b[0m \u001b[0menc\u001b[0m\u001b[0;34m(\u001b[0m\u001b[0;34m[\u001b[0m\u001b[0mx\u001b[0m\u001b[0;34m]\u001b[0m\u001b[0;34m)\u001b[0m\u001b[0;34m\u001b[0m\u001b[0m\n\u001b[0;32m----> 4\u001b[0;31m \u001b[0mo\u001b[0m \u001b[0;34m=\u001b[0m \u001b[0mdecs\u001b[0m\u001b[0;34m(\u001b[0m\u001b[0mh\u001b[0m\u001b[0;34m)\u001b[0m\u001b[0;34m\u001b[0m\u001b[0m\n\u001b[0m\u001b[1;32m      5\u001b[0m \u001b[0mo\u001b[0m \u001b[0;34m=\u001b[0m \u001b[0mnp\u001b[0m\u001b[0;34m.\u001b[0m\u001b[0mconcatenate\u001b[0m\u001b[0;34m(\u001b[0m\u001b[0;34m[\u001b[0m\u001b[0mx\u001b[0m\u001b[0;34m]\u001b[0m\u001b[0;34m+\u001b[0m\u001b[0mo\u001b[0m\u001b[0;34m,\u001b[0m \u001b[0maxis\u001b[0m\u001b[0;34m=\u001b[0m\u001b[0;36m0\u001b[0m\u001b[0;34m)\u001b[0m\u001b[0;34m\u001b[0m\u001b[0m\n\u001b[1;32m      6\u001b[0m \u001b[0mprint\u001b[0m\u001b[0;34m(\u001b[0m\u001b[0mo\u001b[0m\u001b[0;34m.\u001b[0m\u001b[0mshape\u001b[0m\u001b[0;34m)\u001b[0m\u001b[0;34m\u001b[0m\u001b[0m\n",
      "\u001b[0;31mNameError\u001b[0m: name 'decs' is not defined"
     ]
    }
   ],
   "source": [
    "# reconstruction\n",
    "x = X[2:3]\n",
    "h = enc([x])\n",
    "o = decs(h)\n",
    "o = np.concatenate([x]+o, axis=0)\n",
    "print(o.shape)\n",
    "print(folder)\n",
    "im = grid_of_images_default(o, normalize=True)\n",
    "imsave('out.png', im)"
   ]
  },
  {
   "cell_type": "code",
   "execution_count": 10,
   "metadata": {
    "collapsed": true
   },
   "outputs": [],
   "source": [
    "clf = load('../../discr/digits')\n",
    "clf_enc = Model(inputs=clf.layers[0].input, outputs=clf.get_layer('p_re_lu_4').output)\n",
    "#clf_enc = Model(inputs=clf.layers[0].input, outputs=clf.layers[0].output)"
   ]
  },
  {
   "cell_type": "code",
   "execution_count": 19,
   "metadata": {
    "collapsed": false
   },
   "outputs": [
    {
     "name": "stdout",
     "output_type": "stream",
     "text": [
      "(1000, 16) (1000, 16)\n",
      "(1000, 16) (1000, 16)\n"
     ]
    }
   ],
   "source": [
    "def featurize(h):\n",
    "    mask = (h==h.max(axis=(2,3), keepdims=True))\n",
    "    xx, yy = np.indices((h.shape[2], h.shape[3]))\n",
    "    xx = xx / xx.max()\n",
    "    yy = yy / yy.max()\n",
    "    xx = xx.reshape((1, 1, xx.shape[0], xx.shape[1]))\n",
    "    yy = yy.reshape((1, 1, yy.shape[0], yy.shape[1]))\n",
    "    x = (mask * xx).max(axis=(2, 3))\n",
    "    y = (mask * yy).max(axis=(2, 3))\n",
    "    print(x.shape, y.shape)\n",
    "    return np.concatenate((x, y), axis=1)\n",
    "gen = np.load('../results/{}/gen/generated.npz'.format(folder))\n",
    "nb_gen = 1000\n",
    "Xgen = gen['generated'][0:nb_gen]\n",
    "hgen = featurize(enc([Xgen]))\n",
    "\n",
    "Xtrue = X[0:nb_gen]\n",
    "htrue = featurize(enc([Xtrue]))"
   ]
  },
  {
   "cell_type": "code",
   "execution_count": 35,
   "metadata": {
    "collapsed": false,
    "scrolled": true
   },
   "outputs": [
    {
     "data": {
      "text/plain": [
       "<matplotlib.colorbar.Colorbar at 0x7f0170317d68>"
      ]
     },
     "execution_count": 35,
     "metadata": {},
     "output_type": "execute_result"
    },
    {
     "data": {
      "image/png": "[encoded data removed]",
      "text/plain": [
       "<matplotlib.figure.Figure at 0x7f0170398ac8>"
      ]
     },
     "metadata": {},
     "output_type": "display_data"
    }
   ],
   "source": [
    "# Computes normalized mutual information between all possible pairs of features\n",
    "#ind = np.arange(hgen.shape[1]//2, hgen.shape[1])\n",
    "#np.random.shuffle(ind)\n",
    "#ind = np.arange(hgen.shape[1])\n",
    "ind = np.arange(0, 32)\n",
    "h_ = htrue[:, ind]\n",
    "m = np.zeros((h_.shape[1], h_.shape[1]))\n",
    "for i in range(h_.shape[1]):\n",
    "    for j in range(i, h_.shape[1]):\n",
    "        ij_counts = defaultdict(int)\n",
    "        icounts = defaultdict(int)\n",
    "        jcounts = defaultdict(int)\n",
    "        for k in range(len(h_)):\n",
    "            ij_counts[(h_[k, i], h_[k, j])] += 1\n",
    "            icounts[h_[k, i]] += 1\n",
    "            jcounts[h_[k, j]] += 1\n",
    "        ij_total = sum(ij_counts.values())\n",
    "        i_total = sum(icounts.values())\n",
    "        j_total = sum(jcounts.values())\n",
    "        m[i, j] = 0.\n",
    "        for (vi, vj), nb in ij_counts.items():\n",
    "            pij = nb / ij_total\n",
    "            pi = icounts[vi] / i_total\n",
    "            pj = jcounts[vj] / j_total\n",
    "            m[i, j] += pij * math.log(pij / (pi * pj))\n",
    "        hi = sum((nb/i_total) * math.log(nb/i_total) for nb in icounts.values())\n",
    "        hj = sum((nb/j_total) * math.log(nb/j_total) for nb in jcounts.values())\n",
    "        m[i, j] /= math.sqrt(hi * hj)\n",
    "        m[j, i] = m[i, j]\n",
    "fig = plt.figure(figsize=(5, 5))\n",
    "plt.imshow(m, cmap='plasma')\n",
    "plt.colorbar()\n"
   ]
  }
 ],
 "metadata": {
  "anaconda-cloud": {},
  "kernelspec": {
   "display_name": "Python 3",
   "language": "python",
   "name": "python3"
  },
  "language_info": {
   "codemirror_mode": {
    "name": "ipython",
    "version": 3
   },
   "file_extension": ".py",
   "mimetype": "text/x-python",
   "name": "python",
   "nbconvert_exporter": "python",
   "pygments_lexer": "ipython3",
   "version": "3.5.1"
  }
 },
 "nbformat": 4,
 "nbformat_minor": 1
}
