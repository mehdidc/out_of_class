{
 "cells": [
  {
   "cell_type": "code",
   "execution_count": 2,
   "metadata": {},
   "outputs": [
    {
     "name": "stderr",
     "output_type": "stream",
     "text": [
      "Using Theano backend.\n"
     ]
    }
   ],
   "source": [
    "import numpy as np\n",
    "import keras.backend as K\n",
    "from machinedesign.viz import grid_of_images_default\n",
    "from skimage.io import imsave\n",
    "from keras.models import Model\n",
    "from skimage.transform import resize\n",
    "from sklearn.decomposition import PCA\n",
    "from sklearn.manifold import Isomap\n",
    "from machinedesign.autoencoder.interface import load\n",
    "from sklearn.neighbors import KDTree\n",
    "from machinedesign.viz import horiz_merge\n",
    "%matplotlib inline\n",
    "import matplotlib.pyplot as plt"
   ]
  },
  {
   "cell_type": "code",
   "execution_count": 3,
   "metadata": {
    "collapsed": true
   },
   "outputs": [],
   "source": [
    "dataset = '../../data/digits.npz'\n",
    "data = np.load(dataset)\n",
    "X = data['X']\n",
    "y = data['y'] if 'y' in data else None\n",
    "X = X.astype(np.float32)\n",
    "X /= 255."
   ]
  },
  {
   "cell_type": "code",
   "execution_count": 5,
   "metadata": {
    "collapsed": true
   },
   "outputs": [],
   "source": [
    "clf = load('../../discr/digits')\n",
    "clf_enc = Model(inputs=clf.layers[0].input, outputs=clf.get_layer('p_re_lu_4').output)\n",
    "#clf_enc = Model(inputs=clf.layers[0].input, outputs=clf.layers[0].output)"
   ]
  },
  {
   "cell_type": "code",
   "execution_count": 6,
   "metadata": {
    "collapsed": true
   },
   "outputs": [],
   "source": [
    "folder = 'mnist'\n",
    "data = np.load('../results/{}/gen/generated.npz'.format(folder))\n",
    "model = load('../results/{}'.format(folder))"
   ]
  },
  {
   "cell_type": "code",
   "execution_count": 137,
   "metadata": {
    "collapsed": true
   },
   "outputs": [],
   "source": [
    "#mnist\n",
    "inp = model.layers[0].input\n",
    "hid_layer = model.get_layer('activation_3')\n",
    "hid = hid_layer.output\n",
    "out = model.layers[-1].output\n",
    "enc = K.function([inp], hid)\n",
    "dec = K.function([hid], out)"
   ]
  },
  {
   "cell_type": "code",
   "execution_count": 106,
   "metadata": {
    "collapsed": true
   },
   "outputs": [],
   "source": [
    "nb = 1000\n",
    "xgen = data['generated'][0:nb]\n",
    "xtrue = X[0:nb]\n",
    "ytrue = y[0:nb]\n",
    "x = np.concatenate((xgen, xtrue), axis=0)\n",
    "\n",
    "class_colors = [\n",
    "    'r',\n",
    "    'b',\n",
    "    'g',\n",
    "    'crimson',\n",
    "    'gold',\n",
    "    'yellow',\n",
    "    'maroon',\n",
    "    'm',\n",
    "    'c',\n",
    "    'orange'\n",
    "]"
   ]
  },
  {
   "cell_type": "code",
   "execution_count": 107,
   "metadata": {
    "collapsed": true
   },
   "outputs": [],
   "source": [
    "#proj = TSNE(n_components=2)\n",
    "proj = PCA(n_components=2)\n",
    "xp = model.predict(x)\n",
    "xx = np.concatenate((x, xp), axis=0)\n",
    "\n",
    "xx = clf_enc.predict(xx)\n",
    "#xx = enc([xx])\n",
    "#xx = xx.max(axis=(2, 3))\n",
    "#xx = xx.reshape((xx.shape[0], -1))\n",
    "\n",
    "hh = proj.fit_transform(xx)\n",
    "h = hh[0:len(x)]\n",
    "v = hh[len(x):] - hh[0:len(x)]"
   ]
  },
  {
   "cell_type": "code",
   "execution_count": 108,
   "metadata": {
    "collapsed": true
   },
   "outputs": [],
   "source": [
    "colors = ['gray'] * nb + [class_colors[yi] for yi in ytrue]\n",
    "classes = np.array([-1] * nb + ytrue.tolist())"
   ]
  },
  {
   "cell_type": "code",
   "execution_count": null,
   "metadata": {
    "collapsed": true
   },
   "outputs": [],
   "source": [
    "fig = plt.figure(figsize=(40, 30))\n",
    "plt.quiver(h[:, 0], h[:, 1], v[:, 0], v[:, 1], scale=250, color='gray', alpha=1.0)\n",
    "plt.scatter(h[classes==-1, 0], h[classes==-1, 1], c='lightgray', s=50, label='Generated', marker='o', alpha=0.8)\n",
    "\n",
    "\n",
    "for cl in range(10):\n",
    "    plt.scatter(h[classes==cl, 0], h[classes==cl, 1], \n",
    "                marker='o', c=class_colors[cl], s=50, label='Digit {}'.format(cl))\n",
    "plt.legend()\n",
    "plt.show()"
   ]
  }
 ],
 "metadata": {
  "anaconda-cloud": {},
  "kernelspec": {
   "display_name": "Python [conda env:py3]",
   "language": "python",
   "name": "conda-env-py3-py"
  },
  "language_info": {
   "codemirror_mode": {
    "name": "ipython",
    "version": 3
   },
   "file_extension": ".py",
   "mimetype": "text/x-python",
   "name": "python",
   "nbconvert_exporter": "python",
   "pygments_lexer": "ipython3",
   "version": "3.5.2"
  }
 },
 "nbformat": 4,
 "nbformat_minor": 2
}
