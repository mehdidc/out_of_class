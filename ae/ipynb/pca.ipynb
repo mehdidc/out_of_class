{
 "cells": [
  {
   "cell_type": "code",
   "execution_count": 159,
   "metadata": {
    "collapsed": true
   },
   "outputs": [],
   "source": [
    "from sklearn.decomposition import MiniBatchDictionaryLearning, MiniBatchSparsePCA, IncrementalPCA, SparseCoder, SparsePCA\n",
    "from sklearn.decomposition import FactorAnalysis\n",
    "import numpy as np\n",
    "from machinedesign.viz import grid_of_images_default\n",
    "from skimage.io import imsave"
   ]
  },
  {
   "cell_type": "code",
   "execution_count": 163,
   "metadata": {},
   "outputs": [],
   "source": [
    "data = np.load('../../data/digits.npz')\n",
    "X = data['X']\n",
    "X = X / 255."
   ]
  },
  {
   "cell_type": "code",
   "execution_count": 169,
   "metadata": {},
   "outputs": [],
   "source": [
    "m = IncrementalPCA(n_components=256)\n",
    "#m = MiniBatchDictionaryLearning(batch_size=64, n_components=1000, n_iter=100)\n",
    "#m = FactorAnalysis(n_components=256)\n",
    "#m = SparsePCA(n_components=256)"
   ]
  },
  {
   "cell_type": "code",
   "execution_count": 170,
   "metadata": {},
   "outputs": [
    {
     "data": {
      "text/plain": [
       "IncrementalPCA(batch_size=None, copy=True, n_components=256, whiten=False)"
      ]
     },
     "execution_count": 170,
     "metadata": {},
     "output_type": "execute_result"
    }
   ],
   "source": [
    "v = X.reshape((X.shape[0], -1))\n",
    "m.fit(v)"
   ]
  },
  {
   "cell_type": "code",
   "execution_count": 171,
   "metadata": {},
   "outputs": [
    {
     "name": "stderr",
     "output_type": "stream",
     "text": [
      "/home/mcherti/miniconda/envs/py3/lib/python3.5/site-packages/skimage/util/dtype.py:110: UserWarning: Possible precision loss when converting from float64 to uint8\n",
      "  \"%s to %s\" % (dtypeobj_in, dtypeobj))\n"
     ]
    }
   ],
   "source": [
    "w = m.components_\n",
    "w = w.reshape((w.shape[0], 1, 28, 28))\n",
    "im = grid_of_images_default(w, normalize=True)\n",
    "imsave('out.png', im)"
   ]
  },
  {
   "cell_type": "code",
   "execution_count": 174,
   "metadata": {},
   "outputs": [
    {
     "name": "stdout",
     "output_type": "stream",
     "text": [
      "(60000, 784) (60000, 784)\n",
      "0.0014085641994\n"
     ]
    },
    {
     "name": "stderr",
     "output_type": "stream",
     "text": [
      "/home/mcherti/miniconda/envs/py3/lib/python3.5/site-packages/skimage/util/dtype.py:110: UserWarning: Possible precision loss when converting from float64 to uint8\n",
      "  \"%s to %s\" % (dtypeobj_in, dtypeobj))\n"
     ]
    }
   ],
   "source": [
    "v = X.reshape((X.shape[0], -1))\n",
    "vr = m.inverse_transform(m.transform(v))\n",
    "print(v.shape, vr.shape)\n",
    "loss = ((vr - v)**2).mean()\n",
    "print(loss)\n",
    "vr = vr.reshape((vr.shape[0], 1, 28, 28))\n",
    "im = grid_of_images_default(vr[0:256])\n",
    "imsave('out.png', im)"
   ]
  },
  {
   "cell_type": "code",
   "execution_count": 186,
   "metadata": {},
   "outputs": [
    {
     "name": "stderr",
     "output_type": "stream",
     "text": [
      "/home/mcherti/miniconda/envs/py3/lib/python3.5/site-packages/skimage/util/dtype.py:110: UserWarning: Possible precision loss when converting from float64 to uint8\n",
      "  \"%s to %s\" % (dtypeobj_in, dtypeobj))\n"
     ]
    }
   ],
   "source": [
    "xr = np.random.uniform(size=(100, 784))\n",
    "for _ in range(10):\n",
    "    xr = m.transform(xr)\n",
    "    xr = m.inverse_transform(xr)\n",
    "xr = xr.reshape((xr.shape[0], 1, 28, 28))\n",
    "im = grid_of_images_default(xr, normalize=True)\n",
    "imsave('out.png', im)"
   ]
  },
  {
   "cell_type": "code",
   "execution_count": null,
   "metadata": {
    "collapsed": true
   },
   "outputs": [],
   "source": [
    "m."
   ]
  }
 ],
 "metadata": {
  "anaconda-cloud": {},
  "kernelspec": {
   "display_name": "Python [conda env:py3]",
   "language": "python",
   "name": "conda-env-py3-py"
  },
  "language_info": {
   "codemirror_mode": {
    "name": "ipython",
    "version": 3
   },
   "file_extension": ".py",
   "mimetype": "text/x-python",
   "name": "python",
   "nbconvert_exporter": "python",
   "pygments_lexer": "ipython3",
   "version": "3.5.2"
  }
 },
 "nbformat": 4,
 "nbformat_minor": 2
}
