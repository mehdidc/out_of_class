{
 "cells": [
  {
   "cell_type": "code",
   "execution_count": 5,
   "metadata": {},
   "outputs": [],
   "source": [
    "%matplotlib inline\n",
    "import pandas as pd\n",
    "import numpy as np\n",
    "from skimage.io import imsave\n",
    "from machinedesign.autoencoder.interface import load\n",
    "from machinedesign.viz import grid_of_images_default, horiz_merge\n",
    "from lightjob.cli import load_db\n",
    "import keras.backend as K\n",
    "import matplotlib.pyplot as plt\n",
    "from IPython.display import Image\n",
    "from fluentopt.utils import flatten_dict\n",
    "import seaborn as sns\n",
    "from scipy.stats import binned_statistic\n",
    "pd.options.display.max_columns = 100\n",
    "sns.set_style('white')\n",
    "\n",
    "def show_several(df, nb=100):\n",
    "    for j in df.index:\n",
    "        print(j)\n",
    "        show_one(j, nb=nb)\n",
    "def show_one(j, nb=100):\n",
    "    try:\n",
    "        X = np.load('../results/jobs/{}/gen/generated.npz'.format(j))['generated'][0:nb]\n",
    "    except Exception:\n",
    "        return\n",
    "    X = grid_of_images_default(X, border=5, bordercolor=(0, 0, 0))\n",
    "    imsave('out.png', X)\n",
    "    im = Image('out.png')\n",
    "    display(im)"
   ]
  },
  {
   "cell_type": "code",
   "execution_count": 3,
   "metadata": {},
   "outputs": [],
   "source": [
    "df_full = pd.read_csv('../../export/hypers.csv')\n",
    "df_full = df_full.set_index('job_id')\n",
    "#df_full['letters'] = 0.5 * df_full['letters_object'] + 0.5 * df_full['letters_diversity']"
   ]
  },
  {
   "cell_type": "code",
   "execution_count": 7,
   "metadata": {},
   "outputs": [
    {
     "data": {
      "text/plain": [
       "<matplotlib.axes._subplots.AxesSubplot at 0x7f4f309a2128>"
      ]
     },
     "execution_count": 7,
     "metadata": {},
     "output_type": "execute_result"
    },
    {
     "data": {
      "image/png": "[encoded data removed]",
      "text/plain": [
       "<matplotlib.figure.Figure at 0x7f4f309ac470>"
      ]
     },
     "metadata": {},
     "output_type": "display_data"
    }
   ],
   "source": [
    "df = df_full\n",
    "df['delta'] = df['recons_digits'] - df['recons_hwrt']\n",
    "df['delta'].hist(edgecolor='black')"
   ]
  }
 ],
 "metadata": {
  "kernelspec": {
   "display_name": "Python 3",
   "language": "python",
   "name": "python3"
  },
  "language_info": {
   "codemirror_mode": {
    "name": "ipython",
    "version": 3
   },
   "file_extension": ".py",
   "mimetype": "text/x-python",
   "name": "python",
   "nbconvert_exporter": "python",
   "pygments_lexer": "ipython3",
   "version": "3.5.4"
  }
 },
 "nbformat": 4,
 "nbformat_minor": 2
}
