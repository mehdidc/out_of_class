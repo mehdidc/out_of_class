{
 "cells": [
  {
   "cell_type": "code",
   "execution_count": null,
   "metadata": {},
   "outputs": [],
   "source": [
    "import numpy as np\n",
    "from machinedesign.viz import grid_of_images_default\n",
    "from keras.models import Model\n",
    "from sklearn.manifold import TSNE\n",
    "from skimage.io import imsave\n",
    "import keras.backend as K\n",
    "from machinedesign.autoencoder.interface import load\n",
    "from sklearn.decomposition import PCA\n",
    "%matplotlib inline\n",
    "import matplotlib.pyplot as plt"
   ]
  },
  {
   "cell_type": "code",
   "execution_count": null,
   "metadata": {},
   "outputs": [],
   "source": [
    "dataset = '../../data/digits.npz'\n",
    "data = np.load(dataset)\n",
    "Xtrue = data['X']\n",
    "ytrue = data['y'] if 'y' in data else None\n",
    "Xtrue = Xtrue.astype(np.float32)\n",
    "Xtrue /= 255.\n",
    "nb_classes = 10"
   ]
  },
  {
   "cell_type": "code",
   "execution_count": null,
   "metadata": {},
   "outputs": [],
   "source": [
    "folder = 'mnist'\n",
    "model = load('../results/{}'.format(folder))\n",
    "inp = model.layers[0].input\n",
    "hid_layer = model.get_layer('winner_take_all_channel_1')\n",
    "hid = hid_layer.output\n",
    "out = model.layers[-1].output\n",
    "enc = K.function([inp], hid)\n",
    "dec = K.function([hid], out)"
   ]
  },
  {
   "cell_type": "code",
   "execution_count": null,
   "metadata": {},
   "outputs": [],
   "source": [
    "gen = np.load('../results/{}/gen/generated.npz'.format(folder))\n",
    "X = gen['generated'][0:100]"
   ]
  },
  {
   "cell_type": "code",
   "execution_count": null,
   "metadata": {},
   "outputs": [],
   "source": [
    "imlist = []\n",
    "Xlist = []\n",
    "for i in range(25):\n",
    "    nb = 100\n",
    "    x = X[i:i+1] * np.ones((nb, 1, 1, 1))\n",
    "    x = x * (np.random.uniform(size=x.shape)<=0.7)\n",
    "    for _ in range(5):\n",
    "        h = enc([x])\n",
    "        x = dec([h])\n",
    "    Xlist.append(x)\n",
    "    im = grid_of_images_default(x)\n",
    "    imlist.append(im)\n",
    "Xgen = np.concatenate(Xlist, axis=0)\n",
    "im = np.array(imlist)\n",
    "im = grid_of_images_default(im)\n",
    "imsave('examplars.png', im)"
   ]
  },
  {
   "cell_type": "code",
   "execution_count": null,
   "metadata": {},
   "outputs": [],
   "source": [
    "clf = load('../../discr/digits_and_letters')\n",
    "#clf_enc = Model(inputs=clf.layers[0].input, outputs=clf.get_layer('p_re_lu_4').output)\n",
    "clf_enc = Model(inputs=clf.layers[0].input, outputs=clf.layers[0].output)"
   ]
  },
  {
   "cell_type": "code",
   "execution_count": null,
   "metadata": {},
   "outputs": [],
   "source": [
    "ygen = [-1] * len(Xgen)\n",
    "Xfull = np.concatenate((Xgen, Xtrue[0:len(Xgen)]), axis=0)\n",
    "yfull = np.concatenate((ygen, ytrue[0:len(Xgen)]), axis=0)"
   ]
  },
  {
   "cell_type": "code",
   "execution_count": null,
   "metadata": {},
   "outputs": [],
   "source": [
    "hfull = clf_enc.predict(Xfull)\n",
    "hfull = hfull.reshape((hfull.shape[0], -1))\n",
    "hfull_2d = TSNE(perplexity=30).fit_transform(hfull)"
   ]
  },
  {
   "cell_type": "code",
   "execution_count": null,
   "metadata": {},
   "outputs": [],
   "source": [
    "fig = plt.figure(figsize=(15, 10))\n",
    "colors = [\n",
    "    'r',\n",
    "    'b',\n",
    "    'g',\n",
    "    'crimson',\n",
    "    'gold',\n",
    "    'yellow',\n",
    "    'maroon',\n",
    "    'm',\n",
    "    'c',\n",
    "    'orange'\n",
    "]\n",
    "for i in range(10):\n",
    "    plt.scatter(hfull_2d[yfull==i, 0], hfull_2d[yfull==i, 1], marker='+', color=colors[i])\n",
    "\n",
    "plt.scatter(hfull_2d[yfull< 0, 0], hfull_2d[yfull<0, 1], marker='+', color='gray')\n",
    "plt.show()"
   ]
  },
  {
   "cell_type": "code",
   "execution_count": null,
   "metadata": {},
   "outputs": [],
   "source": [
    "print(hgen.shape)"
   ]
  },
  {
   "cell_type": "code",
   "execution_count": null,
   "metadata": {},
   "outputs": [],
   "source": []
  }
 ],
 "metadata": {
  "anaconda-cloud": {},
  "kernelspec": {
   "display_name": "Python 3",
   "language": "python",
   "name": "python3"
  },
  "language_info": {
   "codemirror_mode": {
    "name": "ipython",
    "version": 3
   },
   "file_extension": ".py",
   "mimetype": "text/x-python",
   "name": "python",
   "nbconvert_exporter": "python",
   "pygments_lexer": "ipython3",
   "version": "3.5.4"
  }
 },
 "nbformat": 4,
 "nbformat_minor": 2
}
