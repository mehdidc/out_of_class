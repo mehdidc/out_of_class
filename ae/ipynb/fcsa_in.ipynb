{
 "cells": [
  {
   "cell_type": "code",
   "execution_count": 1,
   "metadata": {
    "collapsed": false
   },
   "outputs": [
    {
     "name": "stderr",
     "output_type": "stream",
     "text": [
      "Using Theano backend.\n"
     ]
    }
   ],
   "source": [
    "import numpy as np\n",
    "from machinedesign.model_builders import fully_connected\n",
    "from machinedesign.viz import grid_of_images_default\n",
    "from machinedesign.autoencoder.interface import iterative_refinement\n",
    "from skimage.io import imsave\n",
    "import joblib\n",
    "from keras.layers import Input, Dense, Flatten, Activation, Lambda, Reshape\n",
    "from keras.models import Model"
   ]
  },
  {
   "cell_type": "code",
   "execution_count": 2,
   "metadata": {
    "collapsed": false
   },
   "outputs": [
    {
     "name": "stdout",
     "output_type": "stream",
     "text": [
      "(32, 1, 5, 5)\n",
      "(32,)\n",
      "(8, 32, 5, 5)\n",
      "(8,)\n",
      "(512, 8, 5, 5)\n",
      "(512,)\n",
      "(256, 512, 5, 5)\n",
      "(256,)\n",
      "(1, 256, 17, 17)\n",
      "(1,)\n"
     ]
    },
    {
     "data": {
      "text/plain": [
       "(32, 1, 5, 5)"
      ]
     },
     "execution_count": 2,
     "metadata": {},
     "output_type": "execute_result"
    }
   ],
   "source": [
    "data = joblib.load('../results/fcsa_in/pkl/model.pkl')\n",
    "for d in data:\n",
    "    print(d.shape)\n",
    "data[0].shape"
   ]
  },
  {
   "cell_type": "code",
   "execution_count": null,
   "metadata": {
    "collapsed": true
   },
   "outputs": [],
   "source": [
    "params = {\n",
    "    'nb_hidden_units': [400, 900, 100, 200, 800],\n",
    "    'activations': ['relu', 'relu', 'relu', 'relu', 'relu'],\n",
    "    'output_activation': 'sigmoid'\n",
    "}\n",
    "model = fully_connected(params, (1, 28, 28), (1, 28, 28))\n"
   ]
  }
 ],
 "metadata": {
  "kernelspec": {
   "display_name": "Python 3",
   "language": "python",
   "name": "python3"
  },
  "language_info": {
   "codemirror_mode": {
    "name": "ipython",
    "version": 3
   },
   "file_extension": ".py",
   "mimetype": "text/x-python",
   "name": "python",
   "nbconvert_exporter": "python",
   "pygments_lexer": "ipython3",
   "version": "3.5.1"
  }
 },
 "nbformat": 4,
 "nbformat_minor": 2
}
