{
 "cells": [
  {
   "cell_type": "code",
   "execution_count": 103,
   "metadata": {
    "collapsed": false
   },
   "outputs": [],
   "source": [
    "%matplotlib inline\n",
    "import matplotlib.pyplot as plt\n",
    "from machinedesign.autoencoder.interface import load\n",
    "import keras.backend as K\n",
    "from keras.models import Model\n",
    "import numpy as np\n",
    "from skimage.io import imsave\n",
    "from machinedesign.viz import grid_of_images_default"
   ]
  },
  {
   "cell_type": "code",
   "execution_count": 95,
   "metadata": {
    "collapsed": false
   },
   "outputs": [],
   "source": [
    "data = np.load('../results/jobs/04c1617e4181a6eb902d4299907d154e/gen/generated.npz')\n",
    "X = data['generated']"
   ]
  },
  {
   "cell_type": "code",
   "execution_count": 96,
   "metadata": {
    "collapsed": true
   },
   "outputs": [],
   "source": [
    "model = load('../results/jobs/04c1617e4181a6eb902d4299907d154e')"
   ]
  },
  {
   "cell_type": "code",
   "execution_count": 97,
   "metadata": {
    "collapsed": false
   },
   "outputs": [
    {
     "name": "stdout",
     "output_type": "stream",
     "text": [
      "_________________________________________________________________\n",
      "Layer (type)                 Output Shape              Param #   \n",
      "=================================================================\n",
      "input_1 (InputLayer)         (None, 1, 28, 28)         0         \n",
      "_________________________________________________________________\n",
      "conv2d_1 (Conv2D)            (None, 128, 24, 24)       3328      \n",
      "_________________________________________________________________\n",
      "activation_1 (Activation)    (None, 128, 24, 24)       0         \n",
      "_________________________________________________________________\n",
      "conv2d_2 (Conv2D)            (None, 128, 20, 20)       409728    \n",
      "_________________________________________________________________\n",
      "activation_2 (Activation)    (None, 128, 20, 20)       0         \n",
      "_________________________________________________________________\n",
      "conv2d_3 (Conv2D)            (None, 128, 16, 16)       409728    \n",
      "_________________________________________________________________\n",
      "activation_3 (Activation)    (None, 128, 16, 16)       0         \n",
      "_________________________________________________________________\n",
      "conv2d_4 (Conv2D)            (None, 128, 12, 12)       409728    \n",
      "_________________________________________________________________\n",
      "activation_4 (Activation)    (None, 128, 12, 12)       0         \n",
      "_________________________________________________________________\n",
      "conv2d_5 (Conv2D)            (None, 128, 8, 8)         409728    \n",
      "_________________________________________________________________\n",
      "activation_5 (Activation)    (None, 128, 8, 8)         0         \n",
      "_________________________________________________________________\n",
      "conv2d_6 (Conv2D)            (None, 128, 4, 4)         409728    \n",
      "_________________________________________________________________\n",
      "activation_6 (Activation)    (None, 128, 4, 4)         0         \n",
      "_________________________________________________________________\n",
      "winner_take_all_spatial_1 (w (None, 128, 4, 4)         0         \n",
      "_________________________________________________________________\n",
      "winner_take_all_lifetime_1 ( (None, 128, 4, 4)         0         \n",
      "_________________________________________________________________\n",
      "up_conv2d_1 (UpConv2D)       (None, 128, 8, 8)         409728    \n",
      "_________________________________________________________________\n",
      "activation_7 (Activation)    (None, 128, 8, 8)         0         \n",
      "_________________________________________________________________\n",
      "up_conv2d_2 (UpConv2D)       (None, 128, 12, 12)       409728    \n",
      "_________________________________________________________________\n",
      "activation_8 (Activation)    (None, 128, 12, 12)       0         \n",
      "_________________________________________________________________\n",
      "up_conv2d_3 (UpConv2D)       (None, 128, 16, 16)       409728    \n",
      "_________________________________________________________________\n",
      "activation_9 (Activation)    (None, 128, 16, 16)       0         \n",
      "_________________________________________________________________\n",
      "up_conv2d_4 (UpConv2D)       (None, 128, 20, 20)       409728    \n",
      "_________________________________________________________________\n",
      "activation_10 (Activation)   (None, 128, 20, 20)       0         \n",
      "_________________________________________________________________\n",
      "up_conv2d_5 (UpConv2D)       (None, 128, 24, 24)       409728    \n",
      "_________________________________________________________________\n",
      "activation_11 (Activation)   (None, 128, 24, 24)       0         \n",
      "_________________________________________________________________\n",
      "up_conv2d_6 (UpConv2D)       (None, 1, 28, 28)         3201      \n",
      "_________________________________________________________________\n",
      "activation_12 (Activation)   (None, 1, 28, 28)         0         \n",
      "=================================================================\n",
      "Total params: 4,103,809\n",
      "Trainable params: 4,103,809\n",
      "Non-trainable params: 0\n",
      "_________________________________________________________________\n"
     ]
    }
   ],
   "source": [
    "model.summary()"
   ]
  },
  {
   "cell_type": "code",
   "execution_count": 98,
   "metadata": {
    "collapsed": false
   },
   "outputs": [],
   "source": [
    "#mnist\n",
    "inp = model.layers[0].input\n",
    "hid_layer = model.get_layer('winner_take_all_spatial_1')\n",
    "hid = hid_layer.output\n",
    "out = model.layers[-1].output\n",
    "enc = K.function([inp], hid)\n",
    "dec = K.function([hid], out)"
   ]
  },
  {
   "cell_type": "code",
   "execution_count": 99,
   "metadata": {
    "collapsed": false
   },
   "outputs": [
    {
     "name": "stderr",
     "output_type": "stream",
     "text": [
      "/home/ubuntu/miniconda2/envs/python3/lib/python3.5/site-packages/skimage/util/dtype.py:110: UserWarning: Possible precision loss when converting from float64 to uint8\n",
      "  \"%s to %s\" % (dtypeobj_in, dtypeobj))\n"
     ]
    }
   ],
   "source": [
    "im = grid_of_images_default(X[0:9])\n",
    "imsave('out.png', im)"
   ]
  },
  {
   "cell_type": "code",
   "execution_count": 91,
   "metadata": {
    "collapsed": false
   },
   "outputs": [],
   "source": [
    "h = enc([X[0:9]])"
   ]
  },
  {
   "cell_type": "code",
   "execution_count": 100,
   "metadata": {
    "collapsed": false
   },
   "outputs": [
    {
     "name": "stderr",
     "output_type": "stream",
     "text": [
      "/home/ubuntu/miniconda2/envs/python3/lib/python3.5/site-packages/skimage/util/dtype.py:110: UserWarning: Possible precision loss when converting from float64 to uint8\n",
      "  \"%s to %s\" % (dtypeobj_in, dtypeobj))\n"
     ]
    }
   ],
   "source": [
    "im = grid_of_images_default(h[0])\n",
    "imsave('out.png', im)"
   ]
  },
  {
   "cell_type": "code",
   "execution_count": 101,
   "metadata": {
    "collapsed": false
   },
   "outputs": [
    {
     "name": "stderr",
     "output_type": "stream",
     "text": [
      "/home/ubuntu/miniconda2/envs/python3/lib/python3.5/site-packages/skimage/util/dtype.py:110: UserWarning: Possible precision loss when converting from float64 to uint8\n",
      "  \"%s to %s\" % (dtypeobj_in, dtypeobj))\n"
     ]
    }
   ],
   "source": [
    "H = np.zeros((hid_layer.input_shape[1],) + hid_layer.input_shape[1:])\n",
    "H[np.arange(H.shape[0]), np.arange(H.shape[0]), 2, 2] = 1000.0\n",
    "x  = dec([H])\n",
    "im = grid_of_images_default(x, normalize=True)\n",
    "imsave('out.png', im)"
   ]
  },
  {
   "cell_type": "code",
   "execution_count": 94,
   "metadata": {
    "collapsed": false
   },
   "outputs": [
    {
     "data": {
      "text/plain": [
       "(None, 128, 4, 4)"
      ]
     },
     "execution_count": 94,
     "metadata": {},
     "output_type": "execute_result"
    }
   ],
   "source": [
    "hid_layer.input_shape"
   ]
  },
  {
   "cell_type": "code",
   "execution_count": 104,
   "metadata": {
    "collapsed": false
   },
   "outputs": [],
   "source": [
    "clf = load('../../discr/digits')\n",
    "clf_enc = Model(inputs=clf.layers[0].input, outputs=clf.get_layer('p_re_lu_4').output)\n",
    "#clf_enc = Model(inputs=clf.layers[0].input, outputs=clf.layers[0].output)"
   ]
  },
  {
   "cell_type": "code",
   "execution_count": 109,
   "metadata": {
    "collapsed": false
   },
   "outputs": [],
   "source": [
    "h = clf_enc.predict(X)"
   ]
  }
 ],
 "metadata": {
  "kernelspec": {
   "display_name": "Python 3",
   "language": "python",
   "name": "python3"
  },
  "language_info": {
   "codemirror_mode": {
    "name": "ipython",
    "version": 3
   },
   "file_extension": ".py",
   "mimetype": "text/x-python",
   "name": "python",
   "nbconvert_exporter": "python",
   "pygments_lexer": "ipython3",
   "version": "3.5.1"
  }
 },
 "nbformat": 4,
 "nbformat_minor": 2
}
