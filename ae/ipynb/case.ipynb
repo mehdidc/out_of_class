{
 "cells": [
  {
   "cell_type": "code",
   "execution_count": 5,
   "metadata": {},
   "outputs": [],
   "source": [
    "%matplotlib inline\n",
    "import matplotlib.pyplot as plt\n",
    "from machinedesign.autoencoder.interface import load\n",
    "import keras.backend as K\n",
    "from keras.models import Model\n",
    "import numpy as np\n",
    "from skimage.io import imsave\n",
    "from sklearn.neighbors import NearestNeighbors\n",
    "from machinedesign.viz import grid_of_images_default\n",
    "from sklearn.cluster import KMeans"
   ]
  },
  {
   "cell_type": "code",
   "execution_count": 2,
   "metadata": {},
   "outputs": [],
   "source": [
    "job_id = '../mnist'"
   ]
  },
  {
   "cell_type": "code",
   "execution_count": 3,
   "metadata": {},
   "outputs": [],
   "source": [
    "data = np.load('../results/jobs/{}/gen/generated.npz'.format(job_id))\n",
    "X = data['generated']\n",
    "clf = load('../../discr/digits')\n",
    "clf_enc = Model(inputs=clf.layers[0].input, outputs=clf.get_layer('p_re_lu_4').output)\n",
    "model = load('../results/jobs/{}'.format(job_id))\n",
    "inp = model.layers[0].input\n",
    "hid_layer = model.get_layer('winner_take_all_channel_1')\n",
    "hid = hid_layer.output\n",
    "out = model.layers[-1].output\n",
    "enc = K.function([inp], hid)\n",
    "dec = K.function([hid], out)"
   ]
  },
  {
   "cell_type": "code",
   "execution_count": 4,
   "metadata": {},
   "outputs": [],
   "source": [
    "def F(x):\n",
    "    h = enc([x])\n",
    "    h = h.max(axis=(2, 3))\n",
    "    h = h.reshape((h.shape[0], -1))\n",
    "    return h"
   ]
  },
  {
   "cell_type": "code",
   "execution_count": 7,
   "metadata": {},
   "outputs": [],
   "source": [
    "digits = np.load('../../data/digits.npz')['X'] / 255.0\n",
    "htrue = F(digits[0:10000])"
   ]
  },
  {
   "cell_type": "code",
   "execution_count": 45,
   "metadata": {},
   "outputs": [],
   "source": [
    "#htrue_bin = (htrue > 10).astype(int)\n",
    "htrue_bin = np.round(htrue)"
   ]
  },
  {
   "cell_type": "code",
   "execution_count": 46,
   "metadata": {},
   "outputs": [
    {
     "data": {
      "text/plain": [
       "NearestNeighbors(algorithm='auto', leaf_size=30, metric='hamming',\n",
       "         metric_params=None, n_jobs=1, n_neighbors=5, p=2, radius=1.0)"
      ]
     },
     "execution_count": 46,
     "metadata": {},
     "output_type": "execute_result"
    }
   ],
   "source": [
    "knn = NearestNeighbors(n_neighbors=5, metric='hamming')\n",
    "knn.fit(htrue_bin)"
   ]
  },
  {
   "cell_type": "code",
   "execution_count": 47,
   "metadata": {},
   "outputs": [],
   "source": [
    "x = X[0:10]\n",
    "hfake = F(x)\n",
    "hfake_bin = np.round(htrue)"
   ]
  },
  {
   "cell_type": "code",
   "execution_count": 48,
   "metadata": {},
   "outputs": [
    {
     "name": "stdout",
     "output_type": "stream",
     "text": [
      "[[  0.  13.  13.  13.  14.]\n",
      " [  0.  13.  13.  14.  14.]\n",
      " [  0.  11.  11.  11.  11.]\n",
      " [  0.  12.  13.  13.  14.]\n",
      " [  0.   8.   9.   9.   9.]\n",
      " [  0.  10.  11.  11.  12.]\n",
      " [  0.  11.  12.  13.  13.]\n",
      " [  0.  12.  12.  12.  12.]\n",
      " [  0.  13.  13.  13.  13.]\n",
      " [  0.  10.  11.  11.  11.]]\n"
     ]
    }
   ],
   "source": [
    "dist, ind = knn.kneighbors(hfake_bin, return_distance=True)\n",
    "dist *= hfake.shape[1]\n",
    "print(dist[0:10])"
   ]
  },
  {
   "cell_type": "code",
   "execution_count": 49,
   "metadata": {},
   "outputs": [
    {
     "name": "stdout",
     "output_type": "stream",
     "text": [
      "(30, 1, 28, 28)\n"
     ]
    },
    {
     "name": "stderr",
     "output_type": "stream",
     "text": [
      "/home/mcherti/miniconda/envs/py3/lib/python3.5/site-packages/skimage/util/dtype.py:122: UserWarning: Possible precision loss when converting from float64 to uint8\n",
      "  .format(dtypeobj_in, dtypeobj_out))\n"
     ]
    }
   ],
   "source": [
    "nb = 20\n",
    "xtrue = digits[ind[:, 0]][0:nb]\n",
    "xfake = x[0:nb]\n",
    "xall = np.concatenate((xfake, xtrue), axis=0)\n",
    "im = grid_of_images_default(xall, shape=(2, len(xtrue)))\n",
    "imsave('out.png', im)\n",
    "print(xall.shape)"
   ]
  },
  {
   "cell_type": "code",
   "execution_count": 50,
   "metadata": {},
   "outputs": [],
   "source": [
    "# Computes normalized mutual information between all possible pairs of features\n",
    "from collections import defaultdict\n",
    "import math\n",
    "\n",
    "ind = np.arange(0, htrue_bin.shape[1])\n",
    "h_ = htrue_bin[0:5000, ind]\n",
    "m = np.zeros((h_.shape[1], h_.shape[1]))\n",
    "for i in range(h_.shape[1]):\n",
    "    for j in range(i, h_.shape[1]):\n",
    "        ij_counts = defaultdict(int)\n",
    "        icounts = defaultdict(int)\n",
    "        jcounts = defaultdict(int)\n",
    "        for k in range(len(h_)):\n",
    "            ij_counts[(h_[k, i], h_[k, j])] += 1\n",
    "            icounts[h_[k, i]] += 1\n",
    "            jcounts[h_[k, j]] += 1\n",
    "        #print(ij_counts)\n",
    "        #print(icounts)\n",
    "        #print(jcounts)\n",
    "        ij_total = sum(ij_counts.values())\n",
    "        i_total = sum(icounts.values())\n",
    "        j_total = sum(jcounts.values())\n",
    "        m[i, j] = 0.\n",
    "        for (vi, vj), nb in ij_counts.items():\n",
    "            pij = nb / ij_total\n",
    "            pi = icounts[vi] / i_total\n",
    "            pj = jcounts[vj] / j_total\n",
    "            m[i, j] += pij * math.log(pij / (pi * pj))\n",
    "        hi = sum((nb/i_total) * math.log(nb/i_total) for nb in icounts.values())\n",
    "        hj = sum((nb/j_total) * math.log(nb/j_total) for nb in jcounts.values())\n",
    "        m[i, j] /= math.sqrt(hi * hj)\n",
    "        m[j, i] = m[i, j]"
   ]
  },
  {
   "cell_type": "code",
   "execution_count": 44,
   "metadata": {},
   "outputs": [
    {
     "data": {
      "text/plain": [
       "<matplotlib.colorbar.Colorbar at 0x7f7624cc26a0>"
      ]
     },
     "execution_count": 44,
     "metadata": {},
     "output_type": "execute_result"
    },
    {
     "data": {
      "image/png": "[encoded data removed]",
      "text/plain": [
       "<matplotlib.figure.Figure at 0x7f7624d054e0>"
      ]
     },
     "metadata": {},
     "output_type": "display_data"
    }
   ],
   "source": [
    "fig = plt.figure(figsize=(10, 10))\n",
    "plt.imshow(m, cmap='plasma')\n",
    "plt.colorbar()"
   ]
  },
  {
   "cell_type": "code",
   "execution_count": 24,
   "metadata": {},
   "outputs": [
    {
     "name": "stdout",
     "output_type": "stream",
     "text": [
      "[[  1.00000000e+00   6.40440982e-04   1.14454724e-03 ...,   1.63548185e-03\n",
      "    1.54352920e-03   5.05996069e-03]\n",
      " [  6.40440982e-04   1.00000000e+00   6.19186063e-05 ...,   2.75278303e-05\n",
      "    1.77611728e-04   2.28629642e-04]\n",
      " [  1.14454724e-03   6.19186063e-05   1.00000000e+00 ...,   7.23557400e-03\n",
      "    4.86457293e-05   2.81824143e-04]\n",
      " ..., \n",
      " [  1.63548185e-03   2.75278303e-05   7.23557400e-03 ...,   1.00000000e+00\n",
      "    4.14351044e-02   6.90116930e-04]\n",
      " [  1.54352920e-03   1.77611728e-04   4.86457293e-05 ...,   4.14351044e-02\n",
      "    1.00000000e+00   4.92466929e-04]\n",
      " [  5.05996069e-03   2.28629642e-04   2.81824143e-04 ...,   6.90116930e-04\n",
      "    4.92466929e-04   1.00000000e+00]]\n"
     ]
    }
   ],
   "source": [
    "print(m)"
   ]
  }
 ],
 "metadata": {
  "kernelspec": {
   "display_name": "Python 3",
   "language": "python",
   "name": "python3"
  },
  "language_info": {
   "codemirror_mode": {
    "name": "ipython",
    "version": 3
   },
   "file_extension": ".py",
   "mimetype": "text/x-python",
   "name": "python",
   "nbconvert_exporter": "python",
   "pygments_lexer": "ipython3",
   "version": "3.5.4"
  }
 },
 "nbformat": 4,
 "nbformat_minor": 2
}
