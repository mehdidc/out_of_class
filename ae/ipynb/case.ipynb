{
 "cells": [
  {
   "cell_type": "code",
   "execution_count": 6,
   "metadata": {},
   "outputs": [],
   "source": [
    "%matplotlib inline\n",
    "import matplotlib.pyplot as plt\n",
    "from machinedesign.autoencoder.interface import load\n",
    "import keras.backend as K\n",
    "from keras.models import Model\n",
    "import numpy as np\n",
    "from skimage.io import imsave\n",
    "from sklearn.neighbors import NearestNeighbors\n",
    "from machinedesign.viz import grid_of_images_default\n"
   ]
  },
  {
   "cell_type": "code",
   "execution_count": 152,
   "metadata": {},
   "outputs": [],
   "source": [
    "data = np.load('../results/jobs/0debb69cc1446f1d7a5a96f811862415/gen/generated.npz')\n",
    "X = data['generated']\n",
    "clf = load('../../discr/digits')\n",
    "clf_enc = Model(inputs=clf.layers[0].input, outputs=clf.get_layer('p_re_lu_4').output)\n",
    "model = load('../results/jobs/0debb69cc1446f1d7a5a96f811862415')\n",
    "inp = model.layers[0].input\n",
    "hid_layer = model.get_layer('winner_take_all_spatial_1')\n",
    "hid = hid_layer.output\n",
    "out = model.layers[-1].output\n",
    "enc = K.function([inp], hid)\n",
    "dec = K.function([hid], out)"
   ]
  },
  {
   "cell_type": "code",
   "execution_count": 153,
   "metadata": {},
   "outputs": [],
   "source": [
    "def F(x):\n",
    "    h = enc([x])\n",
    "    h = h.max(axis=(2, 3))\n",
    "    #h = (h>0).astype(int)\n",
    "    h = h.reshape((h.shape[0], -1))\n",
    "    return h"
   ]
  },
  {
   "cell_type": "code",
   "execution_count": 154,
   "metadata": {},
   "outputs": [],
   "source": [
    "digits = np.load('../../data/digits.npz')['X'] / 255.0\n",
    "htrue = F(digits)"
   ]
  },
  {
   "cell_type": "code",
   "execution_count": 186,
   "metadata": {},
   "outputs": [],
   "source": [
    "mu = np.median(htrue, axis=0, keepdims=True)\n",
    "htrue_binary = htrue > mu\n",
    "htrue_binary = htrue_binary.astype(int)"
   ]
  },
  {
   "cell_type": "code",
   "execution_count": 188,
   "metadata": {},
   "outputs": [
    {
     "data": {
      "text/plain": [
       "NearestNeighbors(algorithm='auto', leaf_size=30, metric='hamming',\n",
       "         metric_params=None, n_jobs=1, n_neighbors=5, p=2, radius=1.0)"
      ]
     },
     "execution_count": 188,
     "metadata": {},
     "output_type": "execute_result"
    }
   ],
   "source": [
    "knn = NearestNeighbors(n_neighbors=5, metric='hamming')\n",
    "knn.fit(htrue)"
   ]
  },
  {
   "cell_type": "code",
   "execution_count": 189,
   "metadata": {},
   "outputs": [
    {
     "name": "stdout",
     "output_type": "stream",
     "text": [
      "[[1 1 1 1 1 1 1 1]\n",
      " [1 1 1 0 0 1 1 1]\n",
      " [1 1 1 1 1 1 1 1]\n",
      " [1 1 1 1 1 1 1 1]\n",
      " [1 1 1 1 1 1 1 1]\n",
      " [1 1 1 1 1 1 1 1]\n",
      " [1 1 1 1 1 1 1 1]\n",
      " [1 1 1 1 1 1 1 1]\n",
      " [1 1 1 0 1 1 1 1]\n",
      " [1 1 1 1 1 1 1 1]]\n"
     ]
    }
   ],
   "source": [
    "x = X[0:10]\n",
    "hfake = F(x)\n",
    "hfake_binary = hfake > mu\n",
    "hfake_binary = hfake_binary.astype(int)\n",
    "print(hfake_binary)"
   ]
  },
  {
   "cell_type": "code",
   "execution_count": 167,
   "metadata": {},
   "outputs": [],
   "source": [
    "dist, ind = knn.kneighbors(hfake, return_distance=True)\n",
    "dist *= hfake.shape[1]\n",
    "#dist = dist.astype(int)"
   ]
  },
  {
   "cell_type": "code",
   "execution_count": 168,
   "metadata": {},
   "outputs": [
    {
     "name": "stdout",
     "output_type": "stream",
     "text": [
      "(200, 1, 28, 28)\n"
     ]
    },
    {
     "name": "stderr",
     "output_type": "stream",
     "text": [
      "/home/mcherti/miniconda/envs/py3/lib/python3.5/site-packages/skimage/util/dtype.py:122: UserWarning: Possible precision loss when converting from float64 to uint8\n",
      "  .format(dtypeobj_in, dtypeobj_out))\n"
     ]
    }
   ],
   "source": [
    "xtrue = digits[ind[:, 0]]\n",
    "xfake = x \n",
    "xall = np.concatenate((xfake, xtrue), axis=0)\n",
    "im = grid_of_images_default(xall, shape=(2, len(xtrue)))\n",
    "imsave('out.png', im)\n",
    "print(xall.shape)"
   ]
  },
  {
   "cell_type": "code",
   "execution_count": 185,
   "metadata": {},
   "outputs": [
    {
     "name": "stdout",
     "output_type": "stream",
     "text": [
      "(10, 8, 16, 16)\n"
     ]
    },
    {
     "name": "stderr",
     "output_type": "stream",
     "text": [
      "/home/mcherti/miniconda/envs/py3/lib/python3.5/site-packages/skimage/util/dtype.py:122: UserWarning: Possible precision loss when converting from float64 to uint8\n",
      "  .format(dtypeobj_in, dtypeobj_out))\n"
     ]
    }
   ],
   "source": [
    "hh = enc([x])\n",
    "hh = hh > mu.reshape((mu.shape[0], mu.shape[1],1,1))\n",
    "hh = hh.astype('float32')\n",
    "hh *= 30\n",
    "print(hh.shape)\n",
    "xx = dec([hh])\n",
    "im = grid_of_images_default(xx)\n",
    "imsave('out.png', im)"
   ]
  }
 ],
 "metadata": {
  "kernelspec": {
   "display_name": "Python 3",
   "language": "python",
   "name": "python3"
  },
  "language_info": {
   "codemirror_mode": {
    "name": "ipython",
    "version": 3
   },
   "file_extension": ".py",
   "mimetype": "text/x-python",
   "name": "python",
   "nbconvert_exporter": "python",
   "pygments_lexer": "ipython3",
   "version": "3.5.4"
  }
 },
 "nbformat": 4,
 "nbformat_minor": 2
}
