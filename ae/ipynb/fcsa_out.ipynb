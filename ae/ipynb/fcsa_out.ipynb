{
 "cells": [
  {
   "cell_type": "code",
   "execution_count": 122,
   "metadata": {
    "collapsed": true
   },
   "outputs": [],
   "source": [
    "import numpy as np\n",
    "from machinedesign.model_builders import fully_connected\n",
    "from machinedesign.viz import grid_of_images_default\n",
    "from machinedesign.autoencoder.interface import iterative_refinement\n",
    "from skimage.io import imsave\n",
    "import joblib\n",
    "from keras.layers import Input, Dense, Flatten, Activation, Lambda, Reshape\n",
    "from keras.models import Model"
   ]
  },
  {
   "cell_type": "code",
   "execution_count": 121,
   "metadata": {
    "collapsed": false,
    "scrolled": true
   },
   "outputs": [
    {
     "name": "stdout",
     "output_type": "stream",
     "text": [
      "(784, 400)\n",
      "(400,)\n",
      "(400, 900)\n",
      "(900,)\n",
      "(900, 100)\n",
      "(100,)\n",
      "(100, 200)\n",
      "(200,)\n",
      "(200, 800)\n",
      "(800,)\n",
      "(800, 784)\n",
      "(784,)\n"
     ]
    },
    {
     "data": {
      "text/plain": [
       "(784, 400)"
      ]
     },
     "execution_count": 121,
     "metadata": {},
     "output_type": "execute_result"
    }
   ],
   "source": [
    "data = joblib.load('../results/fcsa_out/fcsa.pkl')\n",
    "for d in data:\n",
    "    print(d.shape)\n",
    "data[0].shape"
   ]
  },
  {
   "cell_type": "code",
   "execution_count": 99,
   "metadata": {
    "collapsed": false
   },
   "outputs": [],
   "source": [
    "\n",
    "\"\"\"\n",
    "params = {\n",
    "    'nb_hidden_units': [400, 900, 100, 200, 800],\n",
    "    'activations': ['relu', 'relu', 'relu', 'relu', 'relu'],\n",
    "    'output_activation': 'sigmoid'\n",
    "}\n",
    "model = fully_connected(params, (1, 28, 28), (1, 28, 28))\n",
    "\"\"\"\n",
    "inp = Input((1, 28, 28))\n",
    "x = Flatten()(inp)\n",
    "x = Dense(400)(x)\n",
    "x = Activation('relu')(x)\n",
    "x = Dense(900)(x)\n",
    "x = Activation('relu')(x)\n",
    "x = Dense(100)(x)\n",
    "x = Activation('relu')(x)\n",
    "x = Dense(200)(x)\n",
    "x = Activation('relu')(x)\n",
    "x = Dense(800)(x)\n",
    "#x = Lambda(wta_fc_sparse())(x)\n",
    "x = Activation('relu')(x)\n",
    "x = Dense(784)(x)\n",
    "x = Activation('sigmoid')(x)\n",
    "x = Reshape((1, 28, 28))(x)\n",
    "out = x\n",
    "model = Model(inp, out)"
   ]
  },
  {
   "cell_type": "code",
   "execution_count": 89,
   "metadata": {
    "collapsed": false
   },
   "outputs": [
    {
     "name": "stdout",
     "output_type": "stream",
     "text": [
      "_________________________________________________________________\n",
      "Layer (type)                 Output Shape              Param #   \n",
      "=================================================================\n",
      "input_9 (InputLayer)         (None, 1, 28, 28)         0         \n",
      "_________________________________________________________________\n",
      "flatten_9 (Flatten)          (None, 784)               0         \n",
      "_________________________________________________________________\n",
      "dense_31 (Dense)             (None, 400)               314000    \n",
      "_________________________________________________________________\n",
      "activation_25 (Activation)   (None, 400)               0         \n",
      "_________________________________________________________________\n",
      "dense_32 (Dense)             (None, 900)               360900    \n",
      "_________________________________________________________________\n",
      "activation_26 (Activation)   (None, 900)               0         \n",
      "_________________________________________________________________\n",
      "dense_33 (Dense)             (None, 100)               90100     \n",
      "_________________________________________________________________\n",
      "activation_27 (Activation)   (None, 100)               0         \n",
      "_________________________________________________________________\n",
      "dense_34 (Dense)             (None, 200)               20200     \n",
      "_________________________________________________________________\n",
      "activation_28 (Activation)   (None, 200)               0         \n",
      "_________________________________________________________________\n",
      "dense_35 (Dense)             (None, 800)               160800    \n",
      "_________________________________________________________________\n",
      "lambda_5 (Lambda)            (None, 800)               0         \n",
      "_________________________________________________________________\n",
      "dense_36 (Dense)             (None, 784)               627984    \n",
      "_________________________________________________________________\n",
      "activation_29 (Activation)   (None, 784)               0         \n",
      "_________________________________________________________________\n",
      "reshape_2 (Reshape)          (None, 1, 28, 28)         0         \n",
      "=================================================================\n",
      "Total params: 1,573,984\n",
      "Trainable params: 1,573,984\n",
      "Non-trainable params: 0\n",
      "_________________________________________________________________\n"
     ]
    }
   ],
   "source": [
    "model.summary()"
   ]
  },
  {
   "cell_type": "code",
   "execution_count": 100,
   "metadata": {
    "collapsed": false
   },
   "outputs": [
    {
     "name": "stdout",
     "output_type": "stream",
     "text": [
      "(784, 400) (784, 400)\n",
      "(400,) (400,)\n",
      "(400, 900) (400, 900)\n",
      "(900,) (900,)\n",
      "(900, 100) (900, 100)\n",
      "(100,) (100,)\n",
      "(100, 200) (100, 200)\n",
      "(200,) (200,)\n",
      "(200, 800) (200, 800)\n",
      "(800,) (800,)\n",
      "(800, 784) (800, 784)\n",
      "(784,) (784,)\n"
     ]
    }
   ],
   "source": [
    "ptr = 0\n",
    "for l in [2, 4, 6, 8, 10, 12]:\n",
    "    layer = model.layers[l]\n",
    "    W, b = data[ptr], data[ptr + 1]\n",
    "    Wk, bk = layer.weights\n",
    "    print(Wk.get_value().shape, W.shape)\n",
    "    print(bk.get_value().shape, b.shape)\n",
    "    Wk.set_value(W)\n",
    "    bk.set_value(b)\n",
    "    ptr += 2"
   ]
  },
  {
   "cell_type": "code",
   "execution_count": 118,
   "metadata": {
    "collapsed": false
   },
   "outputs": [
    {
     "name": "stderr",
     "output_type": "stream",
     "text": [
      "/home/ubuntu/miniconda2/envs/python3/lib/python3.5/site-packages/skimage/util/dtype.py:110: UserWarning: Possible precision loss when converting from float64 to uint8\n",
      "  \"%s to %s\" % (dtypeobj_in, dtypeobj))\n"
     ]
    }
   ],
   "source": [
    "model.transformers = []\n",
    "params = {\n",
    "    'batch_size': 128,\n",
    "    'nb_samples': 25*25,\n",
    "    'nb_iter': 100,\n",
    "    'binarize':{\n",
    "        'name': 'binary_threshold',\n",
    "        'params': {\n",
    "            'one_ratio': 0.13,\n",
    "            'is_moving': True,\n",
    "        }\n",
    "    },\n",
    "    'noise':{\n",
    "        'name': 'none',\n",
    "        'params': {\n",
    "        }\n",
    "    },\n",
    "    'stop_if_unchanged': False,\n",
    "    'seed': 42,\n",
    "}\n",
    "X = iterative_refinement(params, model)\n",
    "x = X[:, -1]\n",
    "x =  1 - x\n",
    "x = grid_of_images_default(x)\n",
    "imsave('out.png', x)"
   ]
  },
  {
   "cell_type": "code",
   "execution_count": 119,
   "metadata": {
    "collapsed": true
   },
   "outputs": [],
   "source": [
    "model.save('../results/fcsa_out/model.h5')"
   ]
  }
 ],
 "metadata": {
  "kernelspec": {
   "display_name": "Python 3",
   "language": "python",
   "name": "python3"
  },
  "language_info": {
   "codemirror_mode": {
    "name": "ipython",
    "version": 3
   },
   "file_extension": ".py",
   "mimetype": "text/x-python",
   "name": "python",
   "nbconvert_exporter": "python",
   "pygments_lexer": "ipython3",
   "version": "3.5.1"
  }
 },
 "nbformat": 4,
 "nbformat_minor": 2
}
