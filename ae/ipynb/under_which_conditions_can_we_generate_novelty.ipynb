{
 "cells": [
  {
   "cell_type": "code",
   "execution_count": 83,
   "metadata": {
    "collapsed": false
   },
   "outputs": [],
   "source": [
    "%matplotlib inline\n",
    "import matplotlib.pyplot as plt\n",
    "from machinedesign.autoencoder.interface import load\n",
    "import keras.backend as K\n",
    "from keras.models import Model\n",
    "import numpy as np\n",
    "from skimage.transform import resize, rescale\n",
    "from skimage.io import imsave\n",
    "from machinedesign.viz import grid_of_images_default"
   ]
  },
  {
   "cell_type": "code",
   "execution_count": 2,
   "metadata": {
    "collapsed": true
   },
   "outputs": [],
   "source": [
    "model = load('../results/mnist')"
   ]
  },
  {
   "cell_type": "code",
   "execution_count": 4,
   "metadata": {
    "collapsed": false
   },
   "outputs": [],
   "source": [
    "#mnist\n",
    "inp = model.layers[0].input\n",
    "hid_layer = model.get_layer('winner_take_all_channel_1')\n",
    "hid = hid_layer.output\n",
    "out = model.layers[-1].output\n",
    "enc = K.function([inp], hid)\n",
    "dec = K.function([hid], out)"
   ]
  },
  {
   "cell_type": "code",
   "execution_count": 11,
   "metadata": {
    "collapsed": false
   },
   "outputs": [],
   "source": [
    "data = np.load('../results/mnist/gen/generated.npz')\n",
    "X = data['generated'][0:1000]"
   ]
  },
  {
   "cell_type": "code",
   "execution_count": 57,
   "metadata": {
    "collapsed": false
   },
   "outputs": [
    {
     "name": "stdout",
     "output_type": "stream",
     "text": [
      "(1000, 128, 16, 16)\n",
      "[ 29.79485321  40.38459396  17.67500877  20.56238365  16.57038307\n",
      "  22.25172806  39.71366882  32.04660797  10.22953987  24.40464973\n",
      "  19.72488403  36.38361359  18.68589211  38.65552521  28.50229073\n",
      "  24.49085045  24.26732445  17.85761833  25.35402679  19.33334732\n",
      "  41.51289749  28.57203293  44.70359039  34.52742386  36.26755142\n",
      "  26.94343376  28.28106499  25.108181    39.50509262  24.63679123\n",
      "  26.02955055  44.36453629  31.38572502  13.64300823  21.75517654\n",
      "  22.33550453  54.95508194  35.89174271  16.15205002  34.68506622\n",
      "   6.22872686  41.35590363  34.94844818  21.39164543  14.90039539\n",
      "  24.01675224  38.51949692  29.02440262  36.58825684  49.25491714\n",
      "  30.37126923   6.26707888  19.60889244  16.44712639  22.74887085\n",
      "  28.0338974   30.43317413  26.90244484  37.10877609  16.51768875   0.\n",
      "  23.95541763  33.34634399  31.35377312  50.61838913  22.47667122\n",
      "  32.76108932  43.93204117  34.86914062  50.21696472  30.75203705\n",
      "  40.52384949  40.92553711  25.4266777   24.81823158  38.75107574\n",
      "  24.41336823  21.11138916  24.69645691  27.40996933  34.35596848\n",
      "  30.16138458  22.3445282   35.44049072  22.37387466  26.5983181\n",
      "  17.55241203  49.45716858  35.81661224  28.45441055  36.02618408\n",
      "  25.07792664  21.11271667  29.00343132  27.75164986  20.10739326\n",
      "  40.20933914  38.55581665  38.56997299  41.16107941  38.68125153\n",
      "  24.81152344  34.8106308   28.14636612  30.79193306  19.89795494\n",
      "  40.54135513  26.03074837  28.7130909   22.45650864  22.52412033\n",
      "  18.78359985  11.45998764  22.62088585  23.58135414  32.4935379\n",
      "  27.62287521  21.45443726  41.50165558  12.32062435  23.2129879\n",
      "  20.16730118  26.41083527  35.9705925   32.5981102    0.          28.07055664\n",
      "  41.91673279]\n"
     ]
    }
   ],
   "source": [
    "h = enc([X])\n",
    "print(h.shape)\n",
    "h = h.max(axis=(2, 3))\n",
    "vals = h.max(axis=0)\n",
    "print(vals)"
   ]
  },
  {
   "cell_type": "code",
   "execution_count": 99,
   "metadata": {
    "collapsed": false
   },
   "outputs": [
    {
     "name": "stderr",
     "output_type": "stream",
     "text": [
      "/home/ubuntu/miniconda2/envs/python3/lib/python3.5/site-packages/skimage/util/dtype.py:110: UserWarning: Possible precision loss when converting from float64 to uint8\n",
      "  \"%s to %s\" % (dtypeobj_in, dtypeobj))\n"
     ]
    }
   ],
   "source": [
    "H = np.zeros((hid_layer.input_shape[1],) + hid_layer.input_shape[1:])\n",
    "H[np.arange(H.shape[0]), np.arange(H.shape[0]), 8, 8] = vals\n",
    "x  = dec([H])\n",
    "im = grid_of_images_default(x, normalize=False, shape=(16, 8))\n",
    "imsave('features.png', im)"
   ]
  }
 ],
 "metadata": {
  "kernelspec": {
   "display_name": "Python 3",
   "language": "python",
   "name": "python3"
  },
  "language_info": {
   "codemirror_mode": {
    "name": "ipython",
    "version": 3
   },
   "file_extension": ".py",
   "mimetype": "text/x-python",
   "name": "python",
   "nbconvert_exporter": "python",
   "pygments_lexer": "ipython3",
   "version": "3.5.1"
  }
 },
 "nbformat": 4,
 "nbformat_minor": 2
}
