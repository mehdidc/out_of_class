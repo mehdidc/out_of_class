{
 "cells": [
  {
   "cell_type": "code",
   "execution_count": 83,
   "metadata": {
    "collapsed": false
   },
   "outputs": [],
   "source": [
    "%matplotlib inline\n",
    "import matplotlib.pyplot as plt\n",
    "from machinedesign.autoencoder.interface import load\n",
    "import keras.backend as K\n",
    "from keras.models import Model\n",
    "import numpy as np\n",
    "from skimage.transform import resize, rescale\n",
    "from skimage.io import imsave\n",
    "from machinedesign.viz import grid_of_images_default"
   ]
  },
  {
   "cell_type": "code",
   "execution_count": 102,
   "metadata": {
    "collapsed": true
   },
   "outputs": [],
   "source": [
    "digits = np.load('../../data/digits.npz')\n",
    "digits = digits['X'] / 255."
   ]
  },
  {
   "cell_type": "code",
   "execution_count": 2,
   "metadata": {
    "collapsed": true
   },
   "outputs": [],
   "source": [
    "model = load('../results/mnist')"
   ]
  },
  {
   "cell_type": "code",
   "execution_count": 139,
   "metadata": {
    "collapsed": false
   },
   "outputs": [],
   "source": [
    "#mnist\n",
    "inp = model.layers[0].input\n",
    "hid_layer = model.get_layer('winner_take_all_channel_1')\n",
    "hid = hid_layer.output\n",
    "out = model.layers[-1].output\n",
    "enc = K.function([inp], hid)\n",
    "dec = K.function([hid], out)"
   ]
  },
  {
   "cell_type": "code",
   "execution_count": 11,
   "metadata": {
    "collapsed": false
   },
   "outputs": [],
   "source": [
    "data = np.load('../results/mnist/gen/generated.npz')\n",
    "X = data['generated'][0:1000]"
   ]
  },
  {
   "cell_type": "code",
   "execution_count": 142,
   "metadata": {
    "collapsed": false
   },
   "outputs": [],
   "source": [
    "h = enc([X])\n",
    "h = h.max(axis=(2, 3))\n",
    "vals = h.max(axis=0)"
   ]
  },
  {
   "cell_type": "code",
   "execution_count": 106,
   "metadata": {
    "collapsed": false
   },
   "outputs": [
    {
     "name": "stderr",
     "output_type": "stream",
     "text": [
      "/home/ubuntu/miniconda2/envs/python3/lib/python3.5/site-packages/skimage/util/dtype.py:110: UserWarning: Possible precision loss when converting from float64 to uint8\n",
      "  \"%s to %s\" % (dtypeobj_in, dtypeobj))\n"
     ]
    }
   ],
   "source": [
    "H = np.zeros((hid_layer.input_shape[1],) + hid_layer.input_shape[1:])\n",
    "H[np.arange(H.shape[0]), np.arange(H.shape[0]), 8, 8] = vals\n",
    "x  = dec([H])\n",
    "F = x\n",
    "im = grid_of_images_default(x, normalize=False, shape=(16, 8))\n",
    "imsave('features.png', im)"
   ]
  },
  {
   "cell_type": "code",
   "execution_count": 141,
   "metadata": {
    "collapsed": false
   },
   "outputs": [
    {
     "name": "stdout",
     "output_type": "stream",
     "text": [
      "(10, 1, 28, 28)\n"
     ]
    },
    {
     "name": "stderr",
     "output_type": "stream",
     "text": [
      "/home/ubuntu/miniconda2/envs/python3/lib/python3.5/site-packages/skimage/util/dtype.py:110: UserWarning: Possible precision loss when converting from float64 to uint8\n",
      "  \"%s to %s\" % (dtypeobj_in, dtypeobj))\n"
     ]
    }
   ],
   "source": [
    "d = digits[2:3]\n",
    "h = enc([d])\n",
    "hm = h.max(axis=(2, 3))\n",
    "hm = hm[0]\n",
    "f = []\n",
    "f.append(d)\n",
    "for i in range(len(hm)):\n",
    "    if hm[i]:\n",
    "        hh = h.copy()\n",
    "        hh[:, 0:i] = 0\n",
    "        hh[:, i+1:] = 0\n",
    "        x = dec([hh])\n",
    "        f.append(x)\n",
    "f.append(d)\n",
    "f = np.concatenate(f, axis=0)\n",
    "print(f.shape)\n",
    "im = grid_of_images_default(f, normalize=False, shape=(len(f), 1))\n",
    "imsave('features_example.png', im)"
   ]
  },
  {
   "cell_type": "code",
   "execution_count": null,
   "metadata": {
    "collapsed": true
   },
   "outputs": [],
   "source": []
  }
 ],
 "metadata": {
  "kernelspec": {
   "display_name": "Python 3",
   "language": "python",
   "name": "python3"
  },
  "language_info": {
   "codemirror_mode": {
    "name": "ipython",
    "version": 3
   },
   "file_extension": ".py",
   "mimetype": "text/x-python",
   "name": "python",
   "nbconvert_exporter": "python",
   "pygments_lexer": "ipython3",
   "version": "3.5.1"
  }
 },
 "nbformat": 4,
 "nbformat_minor": 2
}
