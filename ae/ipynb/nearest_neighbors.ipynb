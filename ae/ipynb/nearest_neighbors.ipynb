{
 "cells": [
  {
   "cell_type": "code",
   "execution_count": null,
   "metadata": {},
   "outputs": [],
   "source": [
    "import numpy as np\n",
    "import keras.backend as K\n",
    "from machinedesign.viz import grid_of_images_default\n",
    "from skimage.io import imsave\n",
    "from keras.models import Model\n",
    "from skimage.transform import resize\n",
    "from sklearn.decomposition import PCA\n",
    "from sklearn.manifold import Isomap\n",
    "from machinedesign.autoencoder.interface import load\n",
    "from sklearn.neighbors import KDTree\n",
    "from machinedesign.viz import horiz_merge\n",
    "%matplotlib inline\n",
    "import matplotlib.pyplot as plt"
   ]
  },
  {
   "cell_type": "code",
   "execution_count": null,
   "metadata": {
    "collapsed": true
   },
   "outputs": [],
   "source": [
    "folder = 'mnist'\n",
    "data = np.load('../results/{}/gen/generated.npz'.format(folder))\n",
    "model = load('../results/{}'.format(folder))"
   ]
  },
  {
   "cell_type": "code",
   "execution_count": null,
   "metadata": {
    "collapsed": true
   },
   "outputs": [],
   "source": [
    "#mnist\n",
    "inp = model.layers[0].input\n",
    "hid_layer = model.get_layer('activation_3')\n",
    "hid = hid_layer.output\n",
    "out = model.layers[-1].output\n",
    "enc = K.function([inp], hid)\n",
    "dec = K.function([hid], out)"
   ]
  },
  {
   "cell_type": "code",
   "execution_count": null,
   "metadata": {
    "collapsed": true
   },
   "outputs": [],
   "source": [
    "data = np.load('../../data/digits.npz')\n",
    "Xtrue = data['X'] / 255.\n",
    "Xtrue = Xtrue[0:1000]\n",
    "htrue = enc([Xtrue])\n",
    "#htrue = htrue > 0\n",
    "#htrue = htrue.max(axis=(2, 3))\n",
    "htrue = htrue.reshape((htrue.shape[0], -1))"
   ]
  },
  {
   "cell_type": "code",
   "execution_count": null,
   "metadata": {
    "collapsed": true
   },
   "outputs": [],
   "source": [
    "np.random.seed(42)\n",
    "x = np.random.uniform(size=(1000, 1, 28, 28))\n",
    "hlist = []\n",
    "for i in range(100):s\n",
    "    h = enc([x])\n",
    "    hlist.append(h)\n",
    "    x = dec([h])\n",
    "hfake = h\n",
    "hfake = hfake.reshape((hfake.shape[0], -1))\n",
    "Xfake  = x\n",
    "x = grid_of_images_default(x)\n",
    "imsave('out.png', x)"
   ]
  },
  {
   "cell_type": "code",
   "execution_count": null,
   "metadata": {
    "collapsed": true
   },
   "outputs": [],
   "source": [
    "tree = KDTree(htrue)\n",
    "dist, ind = tree.query(hfake, k=3)\n",
    "x = Xtrue[ind[:, 0]]\n",
    "a = grid_of_images_default(x)\n",
    "\n",
    "x = Xfake\n",
    "b = grid_of_images_default(x)\n",
    "\n",
    "x = horiz_merge(a, b)\n",
    "imsave('out.png', x)"
   ]
  },
  {
   "cell_type": "code",
   "execution_count": null,
   "metadata": {},
   "outputs": [],
   "source": [
    "from sklearn.linear_model import LogisticRegression\n",
    "from sklearn.ensemble import RandomForestClassifier\n",
    "from sklearn.svm import SVC\n",
    "from sklearn.utils import shuffle\n",
    "from sklearn.pipeline import make_pipeline\n",
    "from sklearn.decomposition import PCA\n",
    "H = np.concatenate( (htrue.reshape((htrue.shape[0], -1)), hfake.reshape((hfake.shape[0], -1))), axis=0)\n",
    "X = np.concatenate( (Xtrue, Xfake), axis=0)\n",
    "Y = np.array([1] * len(htrue) + [0] * len(hfake))\n",
    "\n",
    "print(X.shape, Y.shape, H.shape)\n",
    "ind = np.arange(len(H))\n",
    "np.random.shuffle(ind)\n",
    "X = X[ind]\n",
    "H = H[ind]\n",
    "\n",
    "Y = Y[ind]\n",
    "\n",
    "clf = make_pipeline(PCA(n_components=100), LogisticRegression())\n",
    "#clf = RandomForestClassifier(max_leaf_nodes=10, n_estimators=100)\n",
    "#clf = SVC()\n",
    "clf.fit(H[0:900], Y[0:900])"
   ]
  },
  {
   "cell_type": "code",
   "execution_count": null,
   "metadata": {},
   "outputs": [],
   "source": [
    "(clf.predict(H[900:])==Y[900:]).mean()"
   ]
  },
  {
   "cell_type": "code",
   "execution_count": null,
   "metadata": {},
   "outputs": [],
   "source": [
    "x = X[(Y==0) * (clf.predict(H)==1)]\n",
    "print(x.shape)\n",
    "im = grid_of_images_default(x)\n",
    "imsave('out.png', im)"
   ]
  }
 ],
 "metadata": {
  "anaconda-cloud": {},
  "kernelspec": {
   "display_name": "Python 3",
   "language": "python",
   "name": "python3"
  },
  "language_info": {
   "codemirror_mode": {
    "name": "ipython",
    "version": 3
   },
   "file_extension": ".py",
   "mimetype": "text/x-python",
   "name": "python",
   "nbconvert_exporter": "python",
   "pygments_lexer": "ipython3",
   "version": "3.5.4"
  }
 },
 "nbformat": 4,
 "nbformat_minor": 2
}
