{
 "cells": [
  {
   "cell_type": "code",
   "execution_count": 2,
   "metadata": {},
   "outputs": [],
   "source": [
    "import numpy as np\n",
    "from machinedesign.autoencoder.model_builders import convolutional_bottleneck\n",
    "from machinedesign.viz import grid_of_images_default"
   ]
  },
  {
   "cell_type": "code",
   "execution_count": 3,
   "metadata": {},
   "outputs": [],
   "source": [
    "orig_model = np.load('../results/iccc/iccc.npz')"
   ]
  },
  {
   "cell_type": "code",
   "execution_count": 4,
   "metadata": {},
   "outputs": [],
   "source": [
    "params = {\n",
    "    'stride': 1,\n",
    "    'encode_nb_filters': [128, 128, 128],\n",
    "    'encode_filter_sizes': [5, 5, 5],\n",
    "    'encode_activations': ['relu', 'relu', 'relu'],\n",
    "    'code_activations': [\n",
    "        {'name': 'winner_take_all_spatial', 'params': {}},\n",
    "        {'name': 'winner_take_all_channel', 'params': {'stride': 4}},\n",
    "    ],\n",
    "    'decode_nb_filters': [],\n",
    "    'decode_filter_sizes': [],\n",
    "    'decode_activations': [],\n",
    "    'output_filter_size': 13,\n",
    "    'output_activation': 'sigmoid'\n",
    "}\n",
    "model = convolutional_bottleneck(params, (1, 28, 28), (1, 28, 28))"
   ]
  },
  {
   "cell_type": "code",
   "execution_count": 5,
   "metadata": {},
   "outputs": [],
   "source": [
    "model.layers[1].weights[0].set_value(orig_model['0'].transpose((2, 3, 1, 0)))\n",
    "model.layers[1].weights[1].set_value(orig_model['1'])\n",
    "\n",
    "model.layers[3].weights[0].set_value(orig_model['2'].transpose((2, 3, 1, 0)))\n",
    "model.layers[3].weights[1].set_value(orig_model['3'])\n",
    "\n",
    "model.layers[5].weights[0].set_value(orig_model['4'].transpose((2, 3, 1, 0)))\n",
    "model.layers[5].weights[1].set_value(orig_model['5'])\n",
    "\n",
    "model.layers[9].weights[0].set_value(orig_model['6'].transpose((2, 3, 1, 0)))\n",
    "model.layers[9].weights[1].set_value(orig_model['7'])"
   ]
  },
  {
   "cell_type": "code",
   "execution_count": 6,
   "metadata": {},
   "outputs": [],
   "source": [
    "model.save('../results/iccc/model.h5')"
   ]
  },
  {
   "cell_type": "code",
   "execution_count": null,
   "metadata": {},
   "outputs": [],
   "source": [
    "model.summary()"
   ]
  }
 ],
 "metadata": {
  "anaconda-cloud": {},
  "kernelspec": {
   "display_name": "Python [conda env:py3]",
   "language": "python",
   "name": "conda-env-py3-py"
  },
  "language_info": {
   "codemirror_mode": {
    "name": "ipython",
    "version": 3
   },
   "file_extension": ".py",
   "mimetype": "text/x-python",
   "name": "python",
   "nbconvert_exporter": "python",
   "pygments_lexer": "ipython3",
   "version": "3.5.2"
  }
 },
 "nbformat": 4,
 "nbformat_minor": 2
}
