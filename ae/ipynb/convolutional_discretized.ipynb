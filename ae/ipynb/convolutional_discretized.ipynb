{
 "cells": [
  {
   "cell_type": "code",
   "execution_count": 2,
   "metadata": {},
   "outputs": [
    {
     "name": "stderr",
     "output_type": "stream",
     "text": [
      "Using Theano backend.\n"
     ]
    }
   ],
   "source": [
    "%matplotlib inline\n",
    "import seaborn as sbn\n",
    "sbn.set_style('white')\n",
    "import numpy as np\n",
    "from skimage.io import imsave\n",
    "import matplotlib.pyplot as plt\n",
    "from IPython.display import Image\n",
    "from sklearn.manifold import TSNE\n",
    "\n",
    "from keras.models import Model\n",
    "from keras.layers import InputLayer\n",
    "from keras import backend as K\n",
    "\n",
    "from machinedesign.autoencoder.interface import load\n",
    "from machinedesign.transformers import inverse_transform_one, transform_one\n",
    "from machinedesign.viz import grid_of_images_default\n",
    "from sklearn.ensemble import RandomForestClassifier\n",
    "from imgs_to_video import imgs_to_video"
   ]
  },
  {
   "cell_type": "code",
   "execution_count": 26,
   "metadata": {
    "collapsed": true
   },
   "outputs": [],
   "source": [
    "folder = 'celeba2_discrete'\n",
    "model = load('../results/{}'.format(folder))"
   ]
  },
  {
   "cell_type": "code",
   "execution_count": 27,
   "metadata": {},
   "outputs": [
    {
     "name": "stdout",
     "output_type": "stream",
     "text": [
      "_________________________________________________________________\n",
      "Layer (type)                 Output Shape              Param #   \n",
      "=================================================================\n",
      "input_1 (InputLayer)         (None, 50, 32, 32)        0         \n",
      "_________________________________________________________________\n",
      "conv2d_1 (Conv2D)            (None, 64, 28, 28)        80064     \n",
      "_________________________________________________________________\n",
      "activation_1 (Activation)    (None, 64, 28, 28)        0         \n",
      "_________________________________________________________________\n",
      "conv2d_2 (Conv2D)            (None, 128, 24, 24)       204928    \n",
      "_________________________________________________________________\n",
      "activation_2 (Activation)    (None, 128, 24, 24)       0         \n",
      "_________________________________________________________________\n",
      "conv2d_3 (Conv2D)            (None, 256, 20, 20)       819456    \n",
      "_________________________________________________________________\n",
      "activation_3 (Activation)    (None, 256, 20, 20)       0         \n",
      "_________________________________________________________________\n",
      "winner_take_all_spatial_1 (w (None, 256, 20, 20)       0         \n",
      "_________________________________________________________________\n",
      "winner_take_all_channel_1 (w (None, 256, 20, 20)       0         \n",
      "_________________________________________________________________\n",
      "up_conv2d_1 (UpConv2D)       (None, 256, 24, 24)       1638656   \n",
      "_________________________________________________________________\n",
      "activation_4 (Activation)    (None, 256, 24, 24)       0         \n",
      "_________________________________________________________________\n",
      "up_conv2d_2 (UpConv2D)       (None, 256, 28, 28)       1638656   \n",
      "_________________________________________________________________\n",
      "activation_5 (Activation)    (None, 256, 28, 28)       0         \n",
      "_________________________________________________________________\n",
      "up_conv2d_3 (UpConv2D)       (None, 50, 32, 32)        320050    \n",
      "_________________________________________________________________\n",
      "axis_softmax_1 (axis_softmax (None, 50, 32, 32)        0         \n",
      "=================================================================\n",
      "Total params: 4,701,810\n",
      "Trainable params: 4,701,810\n",
      "Non-trainable params: 0\n",
      "_________________________________________________________________\n"
     ]
    }
   ],
   "source": [
    "model.summary()"
   ]
  },
  {
   "cell_type": "code",
   "execution_count": 4,
   "metadata": {
    "collapsed": true
   },
   "outputs": [],
   "source": [
    "data = np.load('../../data/shoes.npz')\n",
    "X = data['X']\n",
    "X /= 255."
   ]
  },
  {
   "cell_type": "code",
   "execution_count": 30,
   "metadata": {
    "collapsed": true
   },
   "outputs": [],
   "source": [
    "inp = model.get_layer('input_1').input\n",
    "out = model.get_layer('activation_3').output\n",
    "hid = model.get_layer('activation_3')\n",
    "enc = K.function([inp], out)\n",
    "\n",
    "inp = model.get_layer('activation_3').output\n",
    "out = model.get_layer('axis_softmax_1').output\n",
    "\n",
    "dec = K.function([inp], out)"
   ]
  },
  {
   "cell_type": "code",
   "execution_count": 9,
   "metadata": {},
   "outputs": [
    {
     "name": "stderr",
     "output_type": "stream",
     "text": [
      "/home/mcherti/miniconda/envs/py3/lib/python3.5/site-packages/skimage/util/dtype.py:110: UserWarning: Possible precision loss when converting from float64 to uint8\n",
      "  \"%s to %s\" % (dtypeobj_in, dtypeobj))\n"
     ]
    }
   ],
   "source": [
    "h = np.zeros((64,)+hid.output_shape[1:])\n",
    "h[np.arange(h.shape[0]), np.arange(h.shape[0]), 0, 0] = 2.0\n",
    "y = dec([h])\n",
    "y = inverse_transform_one(y, model.transformers)\n",
    "im = grid_of_images_default(y)\n",
    "imsave('../results/{}/features.png'.format(folder), im)\n"
   ]
  },
  {
   "cell_type": "code",
   "execution_count": 11,
   "metadata": {},
   "outputs": [
    {
     "name": "stdout",
     "output_type": "stream",
     "text": [
      "(257, 256, 1, 1)\n"
     ]
    },
    {
     "name": "stderr",
     "output_type": "stream",
     "text": [
      "/home/mcherti/miniconda/envs/py3/lib/python3.5/site-packages/skimage/util/dtype.py:110: UserWarning: Possible precision loss when converting from float64 to uint8\n",
      "  \"%s to %s\" % (dtypeobj_in, dtypeobj))\n",
      "/home/mcherti/miniconda/envs/py3/lib/python3.5/site-packages/skimage/util/dtype.py:110: UserWarning: Possible precision loss when converting from float32 to uint8\n",
      "  \"%s to %s\" % (dtypeobj_in, dtypeobj))\n"
     ]
    }
   ],
   "source": [
    "x = transform_one(X[0:1], model.transformers)\n",
    "h = enc([x])\n",
    "nb = h.shape[1]\n",
    "h = h * np.ones((nb + 1, 1, 1, 1))\n",
    "for i in range(nb):\n",
    "    h[i, i:] = 0.\n",
    "#h[np.arange(len(h)), np.arange(len(h)), :, :] = 0.\n",
    "print(h.shape)\n",
    "y = dec([h])\n",
    "y = inverse_transform_one(y, model.transformers)\n",
    "im = grid_of_images_default(y)\n",
    "imsave('../results/{}/features.png'.format(folder), im)\n",
    "y = y.transpose((0, 2, 3, 1))\n",
    "imgs_to_video(y, out='../results/{}/features.mp4'.format(folder))"
   ]
  },
  {
   "cell_type": "code",
   "execution_count": 147,
   "metadata": {},
   "outputs": [
    {
     "name": "stderr",
     "output_type": "stream",
     "text": [
      "/home/mcherti/miniconda/envs/py3/lib/python3.5/site-packages/skimage/util/dtype.py:110: UserWarning: Possible precision loss when converting from float64 to uint8\n",
      "  \"%s to %s\" % (dtypeobj_in, dtypeobj))\n",
      "/home/mcherti/miniconda/envs/py3/lib/python3.5/site-packages/skimage/util/dtype.py:110: UserWarning: Possible precision loss when converting from float32 to uint8\n",
      "  \"%s to %s\" % (dtypeobj_in, dtypeobj))\n"
     ]
    }
   ],
   "source": [
    "x = transform_one(X[0:10], model.transformers)\n",
    "h = enc([x])\n",
    "y = dec([h])\n",
    "y = inverse_transform_one(y, model.transformers)\n",
    "im = grid_of_images_default(y)\n",
    "imsave('results/{}/features.png'.format(folder), im)\n",
    "y = y.transpose((0, 2, 3, 1))\n",
    "imgs_to_video(y, out='results/{}/features.mp4'.format(folder))"
   ]
  },
  {
   "cell_type": "code",
   "execution_count": 149,
   "metadata": {},
   "outputs": [
    {
     "name": "stderr",
     "output_type": "stream",
     "text": [
      "/home/mcherti/miniconda/envs/py3/lib/python3.5/site-packages/skimage/util/dtype.py:110: UserWarning: Possible precision loss when converting from float64 to uint8\n",
      "  \"%s to %s\" % (dtypeobj_in, dtypeobj))\n",
      "/home/mcherti/miniconda/envs/py3/lib/python3.5/site-packages/skimage/util/dtype.py:110: UserWarning: Possible precision loss when converting from float32 to uint8\n",
      "  \"%s to %s\" % (dtypeobj_in, dtypeobj))\n",
      "/home/mcherti/miniconda/envs/py3/lib/python3.5/site-packages/skimage/io/_io.py:132: UserWarning: /tmp/img_to_videomxrc4syq/img00000148.png is a low contrast image\n",
      "  warn('%s is a low contrast image' % fname)\n",
      "/home/mcherti/miniconda/envs/py3/lib/python3.5/site-packages/skimage/io/_io.py:132: UserWarning: /tmp/img_to_videomxrc4syq/img00000149.png is a low contrast image\n",
      "  warn('%s is a low contrast image' % fname)\n"
     ]
    }
   ],
   "source": [
    "h = np.zeros((hid.output_shape[1],) + hid.output_shape[1:])\n",
    "h[np.arange(len(h)), np.arange(len(h)), :, :] = 5.0\n",
    "y = dec([h])\n",
    "y = inverse_transform_one(y, model.transformers)\n",
    "im = grid_of_images_default(y)\n",
    "imsave('results/{}/features.png'.format(folder), im)\n",
    "y = y.transpose((0, 2, 3, 1))\n",
    "imgs_to_video(y, out='results/{}/features.mp4'.format(folder))"
   ]
  },
  {
   "cell_type": "code",
   "execution_count": null,
   "metadata": {},
   "outputs": [],
   "source": [
    "h = np.random.normal(size=(36,) + hid.output_shape[1:])\n",
    "for _ in range(10):\n",
    "    y = dec([h])\n",
    "    y= inverse_transform_one(y, model.transformers)\n",
    "    ypix = y\n",
    "    y = transform_one(y, model.transformers)\n",
    "    h = enc([y])\n",
    "im = grid_of_images_default(ypix)\n",
    "imsave('out.png'.format(folder), im)"
   ]
  }
 ],
 "metadata": {
  "anaconda-cloud": {},
  "kernelspec": {
   "display_name": "Python [conda env:py3]",
   "language": "python",
   "name": "conda-env-py3-py"
  },
  "language_info": {
   "codemirror_mode": {
    "name": "ipython",
    "version": 3
   },
   "file_extension": ".py",
   "mimetype": "text/x-python",
   "name": "python",
   "nbconvert_exporter": "python",
   "pygments_lexer": "ipython3",
   "version": "3.5.2"
  }
 },
 "nbformat": 4,
 "nbformat_minor": 2
}
