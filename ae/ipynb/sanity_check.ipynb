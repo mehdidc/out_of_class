{
 "cells": [
  {
   "cell_type": "code",
   "execution_count": 4,
   "metadata": {
    "collapsed": true
   },
   "outputs": [],
   "source": [
    "import numpy as np"
   ]
  },
  {
   "cell_type": "code",
   "execution_count": 1,
   "metadata": {
    "collapsed": false
   },
   "outputs": [
    {
     "name": "stderr",
     "output_type": "stream",
     "text": [
      "Using Theano backend.\n"
     ]
    }
   ],
   "source": [
    "from machinedesign.autoencoder.interface import load\n",
    "digits = load('../../discr/digits')\n",
    "letters = load('../../discr/letters')"
   ]
  },
  {
   "cell_type": "code",
   "execution_count": 5,
   "metadata": {
    "collapsed": true
   },
   "outputs": [],
   "source": [
    "def compute_objectness(probas):\n",
    "    # http://papers.nips.cc/paper/6125-improved-techniques-for-training-gans.pdf\n",
    "    pr = probas\n",
    "    marginal = pr.mean(axis=0, keepdims=True)\n",
    "    score = pr * np.log((pr / marginal) + 1e-10)\n",
    "    score = score.sum(axis=1)\n",
    "    return np.exp(score.mean())"
   ]
  },
  {
   "cell_type": "code",
   "execution_count": 15,
   "metadata": {
    "collapsed": true
   },
   "outputs": [],
   "source": [
    "data_digits = np.load('../../data/digits.npz')\n",
    "X_digits = data_digits['X'] / 255.\n",
    "data_letters = np.load('../../data/emnist_train.npz')\n",
    "X_letters = data_letters['X'] / 255.\n",
    "X_letters = X_letters[data_letters['y']>=10]"
   ]
  },
  {
   "cell_type": "code",
   "execution_count": 16,
   "metadata": {
    "collapsed": false
   },
   "outputs": [],
   "source": [
    "pr_dd = digits.predict(X_digits[0:1000])\n",
    "pr_dl = digits.predict(X_letters[0:1000])\n",
    "pr_ld = letters.predict(X_digits[0:1000])\n",
    "pr_ll = letters.predict(X_letters[0:1000])"
   ]
  },
  {
   "cell_type": "code",
   "execution_count": 17,
   "metadata": {
    "collapsed": true
   },
   "outputs": [],
   "source": [
    "o_dd = compute_objectness(pr_dd)\n",
    "o_dl = compute_objectness(pr_dl)\n",
    "o_ld = compute_objectness(pr_ld)\n",
    "o_ll = compute_objectness(pr_ll)"
   ]
  },
  {
   "cell_type": "code",
   "execution_count": 18,
   "metadata": {
    "collapsed": false
   },
   "outputs": [
    {
     "name": "stdout",
     "output_type": "stream",
     "text": [
      "9.95678 7.38208 10.1295 20.6454\n"
     ]
    }
   ],
   "source": [
    "print(o_dd, o_dl, o_ld, o_ll)"
   ]
  }
 ],
 "metadata": {
  "kernelspec": {
   "display_name": "Python 3",
   "language": "python",
   "name": "python3"
  },
  "language_info": {
   "codemirror_mode": {
    "name": "ipython",
    "version": 3
   },
   "file_extension": ".py",
   "mimetype": "text/x-python",
   "name": "python",
   "nbconvert_exporter": "python",
   "pygments_lexer": "ipython3",
   "version": "3.5.1"
  }
 },
 "nbformat": 4,
 "nbformat_minor": 2
}
